{
  "nbformat": 4,
  "nbformat_minor": 0,
  "metadata": {
    "colab": {
      "provenance": [],
      "gpuType": "T4",
      "mount_file_id": "1E4pWTMyGb5vkogkoMzhPeQwp8UmqrkGu",
      "authorship_tag": "ABX9TyP/z83bIu6Gxj5BJLR6U6rv",
      "include_colab_link": true
    },
    "kernelspec": {
      "name": "python3",
      "display_name": "Python 3"
    },
    "language_info": {
      "name": "python"
    },
    "accelerator": "GPU"
  },
  "cells": [
    {
      "cell_type": "markdown",
      "metadata": {
        "id": "view-in-github",
        "colab_type": "text"
      },
      "source": [
        "<a href=\"https://colab.research.google.com/github/lapushrtj8/DS-ML/blob/main/Untitled2.ipynb\" target=\"_parent\"><img src=\"https://colab.research.google.com/assets/colab-badge.svg\" alt=\"Open In Colab\"/></a>"
      ]
    },
    {
      "cell_type": "code",
      "execution_count": null,
      "metadata": {
        "colab": {
          "base_uri": "https://localhost:8080/"
        },
        "id": "ehkiMEKKUYbi",
        "outputId": "db3b0cfa-ea0e-4edc-db9c-58cdaf64090d"
      },
      "outputs": [
        {
          "output_type": "stream",
          "name": "stdout",
          "text": [
            "Drive already mounted at /content/drive; to attempt to forcibly remount, call drive.mount(\"/content/drive\", force_remount=True).\n"
          ]
        }
      ],
      "source": [
        "from google.colab import drive\n",
        "drive.mount('/content/drive')\n",
        "DEST=\"/content/drive/MyDrive/chb_subset\""
      ]
    },
    {
      "cell_type": "code",
      "source": [
        "!pip install mne pyedflib PyWavelets seaborn"
      ],
      "metadata": {
        "colab": {
          "base_uri": "https://localhost:8080/"
        },
        "id": "HkxTPWSJWu2q",
        "outputId": "1d394ed7-b110-4bdd-f4c7-04ab66dde377"
      },
      "execution_count": null,
      "outputs": [
        {
          "output_type": "stream",
          "name": "stdout",
          "text": [
            "Collecting mne\n",
            "  Downloading mne-1.10.1-py3-none-any.whl.metadata (20 kB)\n",
            "Collecting pyedflib\n",
            "  Downloading pyedflib-0.1.42-cp312-cp312-manylinux_2_17_x86_64.manylinux2014_x86_64.whl.metadata (7.2 kB)\n",
            "Requirement already satisfied: PyWavelets in /usr/local/lib/python3.12/dist-packages (1.9.0)\n",
            "Requirement already satisfied: seaborn in /usr/local/lib/python3.12/dist-packages (0.13.2)\n",
            "Requirement already satisfied: decorator in /usr/local/lib/python3.12/dist-packages (from mne) (4.4.2)\n",
            "Requirement already satisfied: jinja2 in /usr/local/lib/python3.12/dist-packages (from mne) (3.1.6)\n",
            "Requirement already satisfied: lazy-loader>=0.3 in /usr/local/lib/python3.12/dist-packages (from mne) (0.4)\n",
            "Requirement already satisfied: matplotlib>=3.7 in /usr/local/lib/python3.12/dist-packages (from mne) (3.10.0)\n",
            "Requirement already satisfied: numpy<3,>=1.25 in /usr/local/lib/python3.12/dist-packages (from mne) (2.0.2)\n",
            "Requirement already satisfied: packaging in /usr/local/lib/python3.12/dist-packages (from mne) (25.0)\n",
            "Requirement already satisfied: pooch>=1.5 in /usr/local/lib/python3.12/dist-packages (from mne) (1.8.2)\n",
            "Requirement already satisfied: scipy>=1.11 in /usr/local/lib/python3.12/dist-packages (from mne) (1.16.2)\n",
            "Requirement already satisfied: tqdm in /usr/local/lib/python3.12/dist-packages (from mne) (4.67.1)\n",
            "Requirement already satisfied: pandas>=1.2 in /usr/local/lib/python3.12/dist-packages (from seaborn) (2.2.2)\n",
            "Requirement already satisfied: contourpy>=1.0.1 in /usr/local/lib/python3.12/dist-packages (from matplotlib>=3.7->mne) (1.3.3)\n",
            "Requirement already satisfied: cycler>=0.10 in /usr/local/lib/python3.12/dist-packages (from matplotlib>=3.7->mne) (0.12.1)\n",
            "Requirement already satisfied: fonttools>=4.22.0 in /usr/local/lib/python3.12/dist-packages (from matplotlib>=3.7->mne) (4.60.0)\n",
            "Requirement already satisfied: kiwisolver>=1.3.1 in /usr/local/lib/python3.12/dist-packages (from matplotlib>=3.7->mne) (1.4.9)\n",
            "Requirement already satisfied: pillow>=8 in /usr/local/lib/python3.12/dist-packages (from matplotlib>=3.7->mne) (11.3.0)\n",
            "Requirement already satisfied: pyparsing>=2.3.1 in /usr/local/lib/python3.12/dist-packages (from matplotlib>=3.7->mne) (3.2.4)\n",
            "Requirement already satisfied: python-dateutil>=2.7 in /usr/local/lib/python3.12/dist-packages (from matplotlib>=3.7->mne) (2.9.0.post0)\n",
            "Requirement already satisfied: pytz>=2020.1 in /usr/local/lib/python3.12/dist-packages (from pandas>=1.2->seaborn) (2025.2)\n",
            "Requirement already satisfied: tzdata>=2022.7 in /usr/local/lib/python3.12/dist-packages (from pandas>=1.2->seaborn) (2025.2)\n",
            "Requirement already satisfied: platformdirs>=2.5.0 in /usr/local/lib/python3.12/dist-packages (from pooch>=1.5->mne) (4.4.0)\n",
            "Requirement already satisfied: requests>=2.19.0 in /usr/local/lib/python3.12/dist-packages (from pooch>=1.5->mne) (2.32.4)\n",
            "Requirement already satisfied: MarkupSafe>=2.0 in /usr/local/lib/python3.12/dist-packages (from jinja2->mne) (3.0.2)\n",
            "Requirement already satisfied: six>=1.5 in /usr/local/lib/python3.12/dist-packages (from python-dateutil>=2.7->matplotlib>=3.7->mne) (1.17.0)\n",
            "Requirement already satisfied: charset_normalizer<4,>=2 in /usr/local/lib/python3.12/dist-packages (from requests>=2.19.0->pooch>=1.5->mne) (3.4.3)\n",
            "Requirement already satisfied: idna<4,>=2.5 in /usr/local/lib/python3.12/dist-packages (from requests>=2.19.0->pooch>=1.5->mne) (3.10)\n",
            "Requirement already satisfied: urllib3<3,>=1.21.1 in /usr/local/lib/python3.12/dist-packages (from requests>=2.19.0->pooch>=1.5->mne) (2.5.0)\n",
            "Requirement already satisfied: certifi>=2017.4.17 in /usr/local/lib/python3.12/dist-packages (from requests>=2.19.0->pooch>=1.5->mne) (2025.8.3)\n",
            "Downloading mne-1.10.1-py3-none-any.whl (7.4 MB)\n",
            "\u001b[2K   \u001b[90m━━━━━━━━━━━━━━━━━━━━━━━━━━━━━━━━━━━━━━━━\u001b[0m \u001b[32m7.4/7.4 MB\u001b[0m \u001b[31m39.8 MB/s\u001b[0m eta \u001b[36m0:00:00\u001b[0m\n",
            "\u001b[?25hDownloading pyedflib-0.1.42-cp312-cp312-manylinux_2_17_x86_64.manylinux2014_x86_64.whl (2.8 MB)\n",
            "\u001b[2K   \u001b[90m━━━━━━━━━━━━━━━━━━━━━━━━━━━━━━━━━━━━━━━━\u001b[0m \u001b[32m2.8/2.8 MB\u001b[0m \u001b[31m89.7 MB/s\u001b[0m eta \u001b[36m0:00:00\u001b[0m\n",
            "\u001b[?25hInstalling collected packages: pyedflib, mne\n",
            "Successfully installed mne-1.10.1 pyedflib-0.1.42\n"
          ]
        }
      ]
    },
    {
      "cell_type": "code",
      "source": [
        "!pip install -q requests beautifulsoup4"
      ],
      "metadata": {
        "id": "qUlUGBW2XQTH"
      },
      "execution_count": null,
      "outputs": []
    },
    {
      "cell_type": "code",
      "source": [
        "import os, getpass\n",
        "\n",
        "DEST = \"/content/drive/MyDrive/chb_subset\"   # change if you like\n",
        "\n",
        "BASE = \"https://physionet.org/files/chbmit/1.0.0\"\n",
        "\n",
        "PATIENTS = [f\"chb{str(i).zfill(2)}\" for i in range(1,16)]  # chb01..chb15\n",
        "\n",
        "\n",
        "# PhysioNet credentials\n",
        "\n",
        "USER = input(\"PhysioNet username: \")\n",
        "\n",
        "PW   = getpass.getpass(\"PhysioNet password: \")\n",
        "\n",
        "\n",
        "# Store creds so wget can authenticate\n",
        "\n",
        "os.makedirs(\"/root\", exist_ok=True)\n",
        "\n",
        "with open(\"/root/.netrc\", \"w\") as f:\n",
        "\n",
        "    f.write(f\"machine physionet.org login {USER} password {PW}\\n\")\n",
        "\n",
        "os.chmod(\"/root/.netrc\", 0o600)\n",
        "\n",
        "print(\"✅ PhysioNet login saved for wget\")"
      ],
      "metadata": {
        "colab": {
          "base_uri": "https://localhost:8080/"
        },
        "id": "IyMalCoAXb0P",
        "outputId": "281c1bac-7eb6-4ec1-8271-63a36f3828dd"
      },
      "execution_count": null,
      "outputs": [
        {
          "output_type": "stream",
          "name": "stdout",
          "text": [
            "PhysioNet username: rosetreesa\n",
            "PhysioNet password: ··········\n",
            "✅ PhysioNet login saved for wget\n"
          ]
        }
      ]
    },
    {
      "cell_type": "code",
      "source": [
        "\n",
        "\n",
        "import re, requests, subprocess, shlex\n",
        "\n",
        "from bs4 import BeautifulSoup\n",
        "\n",
        "from urllib.parse import urljoin\n",
        "\n",
        "\n",
        "def safe_mkdir(p):\n",
        "\n",
        "    os.makedirs(p, exist_ok=True)\n",
        "\n",
        "\n",
        "def run(cmd):\n",
        "\n",
        "    return subprocess.call(shlex.split(cmd))\n",
        "\n",
        "\n",
        "def download_file(url: str, dest_path: str):\n",
        "\n",
        "    \"\"\"Use wget (respects .netrc). Retries included.\"\"\"\n",
        "\n",
        "    safe_mkdir(os.path.dirname(dest_path))\n",
        "\n",
        "    if os.path.exists(dest_path) and os.path.getsize(dest_path) > 0:\n",
        "\n",
        "        return True\n",
        "\n",
        "    cmd = f'wget -q --show-progress --tries=10 --waitretry=2 -O \"{dest_path}\" \"{url}\"'\n",
        "\n",
        "    rc = run(cmd)\n",
        "\n",
        "    return rc == 0 and os.path.exists(dest_path) and os.path.getsize(dest_path) > 0\n",
        "\n",
        "\n",
        "def fetch_html(url: str) -> str:\n",
        "\n",
        "    r = requests.get(url)\n",
        "\n",
        "    r.raise_for_status()\n",
        "\n",
        "    return r.text\n",
        "\n",
        "\n",
        "def parse_summary_text(text: str):\n",
        "\n",
        "    \"\"\"Return {edf_name_lower: [(start,end), ...]}.\"\"\"\n",
        "\n",
        "    out = {}\n",
        "\n",
        "    cur = None\n",
        "\n",
        "    for ln in text.splitlines():\n",
        "\n",
        "        s = ln.strip()\n",
        "\n",
        "        if s.lower().startswith(\"file\"):\n",
        "\n",
        "            parts = s.split(\":\")\n",
        "\n",
        "            if len(parts) > 1:\n",
        "\n",
        "                cur = parts[1].strip().lower()\n",
        "\n",
        "                out[cur] = []\n",
        "\n",
        "        elif \"seizure start\" in s.lower():\n",
        "\n",
        "            nums = re.findall(r\"\\d+\", s)\n",
        "\n",
        "            if nums and cur:\n",
        "\n",
        "                out[cur].append([int(nums[0]), None])\n",
        "\n",
        "        elif \"seizure end\" in s.lower():\n",
        "\n",
        "            nums = re.findall(r\"\\d+\", s)\n",
        "\n",
        "            if nums and cur and out.get(cur):\n",
        "\n",
        "                out[cur][-1][1] = int(nums[0])\n",
        "\n",
        "    # keep only complete intervals\n",
        "\n",
        "    for k in list(out):\n",
        "\n",
        "        out[k] = [iv for iv in out[k] if iv[0] is not None and iv[1] is not None]\n",
        "\n",
        "    return out\n",
        "\n",
        "\n",
        "def list_edfs_on_page(patient_url: str):\n",
        "\n",
        "    \"\"\"Return list of EDF filenames from the directory HTML.\"\"\"\n",
        "\n",
        "    html = fetch_html(patient_url)\n",
        "\n",
        "    soup = BeautifulSoup(html, \"html.parser\")\n",
        "\n",
        "    edfs = []\n",
        "\n",
        "    for a in soup.find_all(\"a\", href=True):\n",
        "\n",
        "        href = a[\"href\"]\n",
        "\n",
        "        if href.lower().endswith(\".edf\"):\n",
        "\n",
        "            edfs.append(href.split(\"/\")[-1])  # bare filename\n",
        "\n",
        "    return sorted(set(edfs))\n",
        "\n"
      ],
      "metadata": {
        "id": "tRfpZg-eYdaI"
      },
      "execution_count": null,
      "outputs": []
    },
    {
      "cell_type": "code",
      "source": [
        "import os, re, requests\n",
        "\n",
        "from bs4 import BeautifulSoup\n",
        "\n",
        "from urllib.parse import urljoin\n",
        "\n",
        "\n",
        "BASE = \"https://physionet.org/files/chbmit/1.0.0\"\n",
        "\n",
        "DEST = \"/content/drive/MyDrive/chb_subset\"\n",
        "\n",
        "PATIENTS = [f\"chb{str(i).zfill(2)}\" for i in range(16,24)]\n",
        "\n",
        "\n",
        "def fetch_html(url):\n",
        "\n",
        "    r = requests.get(url); r.raise_for_status(); return r.text\n",
        "\n",
        "\n",
        "def parse_summary_from_text(text):\n",
        "\n",
        "    \"\"\"\n",
        "\n",
        "    Returns a set of EDF filenames that contain >=1 seizure.\n",
        "\n",
        "    Uses 'File Name:' and 'Number of Seizures in File: N'.\n",
        "\n",
        "    \"\"\"\n",
        "\n",
        "    seizure_edfs = set()\n",
        "\n",
        "    cur_file = None\n",
        "\n",
        "    for ln in text.splitlines():\n",
        "\n",
        "        s = ln.strip()\n",
        "\n",
        "        m = re.match(r\"File\\s*Name:\\s*(.*\\.edf)\", s, flags=re.I)\n",
        "\n",
        "        if m:\n",
        "\n",
        "            cur_file = m.group(1).strip()\n",
        "\n",
        "            continue\n",
        "\n",
        "        m2 = re.match(r\"Number\\s+of\\s+Seizures\\s+in\\s+File:\\s*(\\d+)\", s, flags=re.I)\n",
        "\n",
        "        if m2 and cur_file:\n",
        "\n",
        "            n = int(m2.group(1))\n",
        "\n",
        "            if n > 0:\n",
        "\n",
        "                seizure_edfs.add(cur_file)\n",
        "\n",
        "            cur_file = None  # reset for next block\n",
        "\n",
        "    return {f.lower() for f in seizure_edfs}\n",
        "\n",
        "\n",
        "for p in PATIENTS:\n",
        "\n",
        "    purl = f\"{BASE}/{p}/\"\n",
        "\n",
        "    pdir = os.path.join(DEST, p)\n",
        "\n",
        "    os.makedirs(pdir, exist_ok=True)\n",
        "\n",
        "\n",
        "    # 1) get the directory listing (to know true filenames/case)\n",
        "\n",
        "    html = fetch_html(purl)\n",
        "\n",
        "    soup = BeautifulSoup(html, \"html.parser\")\n",
        "\n",
        "    all_edfs = sorted([a[\"href\"].split(\"/\")[-1] for a in soup.find_all(\"a\", href=True) if a[\"href\"].lower().endswith(\".edf\")])\n",
        "\n",
        "    all_lc   = [e.lower() for e in all_edfs]\n",
        "\n",
        "\n",
        "    # 2) read summary (prefer the one you already downloaded to Drive)\n",
        "\n",
        "    summary_name = f\"{p}-summary.txt\"\n",
        "\n",
        "    local_sum = os.path.join(pdir, summary_name)\n",
        "\n",
        "    if os.path.exists(local_sum):\n",
        "\n",
        "        with open(local_sum, \"r\") as f:\n",
        "\n",
        "            sum_text = f.read()\n",
        "\n",
        "    else:\n",
        "\n",
        "        sum_text = requests.get(urljoin(purl, summary_name)).text\n",
        "\n",
        "\n",
        "    # 3) parse seizure files from summary\n",
        "\n",
        "    seiz_lc = parse_summary_from_text(sum_text)\n",
        "\n",
        "\n",
        "    # 4) map to actual filenames as listed on page\n",
        "\n",
        "    seizure_edfs = []\n",
        "\n",
        "    for s in seiz_lc:\n",
        "\n",
        "        if s in all_lc:\n",
        "\n",
        "            seizure_edfs.append(all_edfs[all_lc.index(s)])\n",
        "\n",
        "\n",
        "    # 5) choose ONE non-seizure edf\n",
        "\n",
        "    non_seizure_edfs = [e for e in all_edfs if e not in seizure_edfs]\n",
        "\n",
        "    keep_non = non_seizure_edfs[:1]\n",
        "\n",
        "\n",
        "    print(f\"{p}: will download {len(seizure_edfs)} seizure + {len(keep_non)} non-seizure\")\n",
        "\n",
        "    print(\"  seizure:\", seizure_edfs[:8], (\"...\" if len(seizure_edfs) > 8 else \"\"))\n",
        "\n",
        "    print(\"  non-seiz:\", keep_non)"
      ],
      "metadata": {
        "colab": {
          "base_uri": "https://localhost:8080/"
        },
        "id": "VqaH8uqIB9CK",
        "outputId": "6af9d181-ad9e-4edf-a7cf-b847bc269358"
      },
      "execution_count": null,
      "outputs": [
        {
          "output_type": "stream",
          "name": "stdout",
          "text": [
            "chb16: will download 6 seizure + 1 non-seizure\n",
            "  seizure: ['chb16_11.edf', 'chb16_17.edf', 'chb16_14.edf', 'chb16_18.edf', 'chb16_16.edf', 'chb16_10.edf'] \n",
            "  non-seiz: ['chb16_01.edf']\n",
            "chb17: will download 3 seizure + 1 non-seizure\n",
            "  seizure: ['chb17b_63.edf', 'chb17a_04.edf', 'chb17a_03.edf'] \n",
            "  non-seiz: ['chb17a_05.edf']\n",
            "chb18: will download 6 seizure + 1 non-seizure\n",
            "  seizure: ['chb18_32.edf', 'chb18_35.edf', 'chb18_36.edf', 'chb18_30.edf', 'chb18_31.edf', 'chb18_29.edf'] \n",
            "  non-seiz: ['chb18_01.edf']\n",
            "chb19: will download 3 seizure + 1 non-seizure\n",
            "  seizure: ['chb19_30.edf', 'chb19_28.edf', 'chb19_29.edf'] \n",
            "  non-seiz: ['chb19_01.edf']\n",
            "chb20: will download 6 seizure + 1 non-seizure\n",
            "  seizure: ['chb20_13.edf', 'chb20_68.edf', 'chb20_15.edf', 'chb20_14.edf', 'chb20_16.edf', 'chb20_12.edf'] \n",
            "  non-seiz: ['chb20_01.edf']\n",
            "chb21: will download 4 seizure + 1 non-seizure\n",
            "  seizure: ['chb21_19.edf', 'chb21_20.edf', 'chb21_22.edf', 'chb21_21.edf'] \n",
            "  non-seiz: ['chb21_01.edf']\n",
            "chb22: will download 3 seizure + 1 non-seizure\n",
            "  seizure: ['chb22_25.edf', 'chb22_20.edf', 'chb22_38.edf'] \n",
            "  non-seiz: ['chb22_01.edf']\n",
            "chb23: will download 3 seizure + 1 non-seizure\n",
            "  seizure: ['chb23_08.edf', 'chb23_09.edf', 'chb23_06.edf'] \n",
            "  non-seiz: ['chb23_07.edf']\n"
          ]
        }
      ]
    },
    {
      "cell_type": "code",
      "source": [
        "\n",
        "import subprocess, shlex\n",
        "\n",
        "\n",
        "def download_file(url, dest_path):\n",
        "\n",
        "    os.makedirs(os.path.dirname(dest_path), exist_ok=True)\n",
        "\n",
        "    if os.path.exists(dest_path) and os.path.getsize(dest_path) > 0:\n",
        "\n",
        "        return\n",
        "\n",
        "    cmd = f'wget -q --show-progress --tries=10 --waitretry=2 -O \"{dest_path}\" \"{url}\"'\n",
        "\n",
        "    subprocess.call(shlex.split(cmd))\n",
        "\n",
        "\n",
        "for p in PATIENTS:\n",
        "\n",
        "    purl = f\"{BASE}/{p}/\"\n",
        "\n",
        "    pdir = os.path.join(DEST, p)\n",
        "\n",
        "    os.makedirs(pdir, exist_ok=True)\n",
        "\n",
        "\n",
        "    # rebuild lists like in preview\n",
        "\n",
        "    html = fetch_html(purl)\n",
        "\n",
        "    soup = BeautifulSoup(html, \"html.parser\")\n",
        "\n",
        "    all_edfs = sorted([a[\"href\"].split(\"/\")[-1] for a in soup.find_all(\"a\", href=True) if a[\"href\"].lower().endswith(\".edf\")])\n",
        "\n",
        "    all_lc   = [e.lower() for e in all_edfs]\n",
        "\n",
        "\n",
        "    summary_name = f\"{p}-summary.txt\"\n",
        "\n",
        "    local_sum = os.path.join(pdir, summary_name)\n",
        "\n",
        "    if os.path.exists(local_sum):\n",
        "\n",
        "        with open(local_sum, \"r\") as f:\n",
        "\n",
        "            sum_text = f.read()\n",
        "\n",
        "    else:\n",
        "\n",
        "        sum_text = requests.get(urljoin(purl, summary_name)).text\n",
        "\n",
        "\n",
        "    seiz_lc = parse_summary_from_text(sum_text)\n",
        "\n",
        "    seizure_edfs = []\n",
        "\n",
        "    for s in seiz_lc:\n",
        "\n",
        "        if s in all_lc:\n",
        "\n",
        "            seizure_edfs.append(all_edfs[all_lc.index(s)])\n",
        "\n",
        "\n",
        "    non_seizure_edfs = [e for e in all_edfs if e not in seizure_edfs]\n",
        "\n",
        "    keep_non = non_seizure_edfs[:1]  # exactly one non-seizure\n",
        "\n",
        "\n",
        "    # download selected files + summary\n",
        "\n",
        "    download_file(urljoin(purl, summary_name), os.path.join(pdir, summary_name))\n",
        "\n",
        "    for ef in seizure_edfs + keep_non:\n",
        "\n",
        "        print(f\"⬇️ {p}: {ef}\")\n",
        "\n",
        "        download_file(urljoin(purl, ef), os.path.join(pdir, ef))\n",
        "\n",
        "\n",
        "print(\"✅ Done: seizure EDFs + 1 non-seizure per patient.\")\n",
        "\n",
        "\n"
      ],
      "metadata": {
        "colab": {
          "base_uri": "https://localhost:8080/"
        },
        "id": "53sO7uQVdWbe",
        "outputId": "15ad007d-8768-4515-c193-b742c8f6f5f6"
      },
      "execution_count": null,
      "outputs": [
        {
          "output_type": "stream",
          "name": "stdout",
          "text": [
            "⬇️ chb16: chb16_11.edf\n",
            "⬇️ chb16: chb16_17.edf\n",
            "⬇️ chb16: chb16_14.edf\n",
            "⬇️ chb16: chb16_18.edf\n",
            "⬇️ chb16: chb16_16.edf\n",
            "⬇️ chb16: chb16_10.edf\n",
            "⬇️ chb16: chb16_01.edf\n",
            "⬇️ chb17: chb17b_63.edf\n",
            "⬇️ chb17: chb17a_04.edf\n",
            "⬇️ chb17: chb17a_03.edf\n",
            "⬇️ chb17: chb17a_05.edf\n",
            "⬇️ chb18: chb18_32.edf\n",
            "⬇️ chb18: chb18_35.edf\n",
            "⬇️ chb18: chb18_36.edf\n",
            "⬇️ chb18: chb18_30.edf\n",
            "⬇️ chb18: chb18_31.edf\n",
            "⬇️ chb18: chb18_29.edf\n",
            "⬇️ chb18: chb18_01.edf\n",
            "⬇️ chb19: chb19_30.edf\n",
            "⬇️ chb19: chb19_28.edf\n",
            "⬇️ chb19: chb19_29.edf\n",
            "⬇️ chb19: chb19_01.edf\n",
            "⬇️ chb20: chb20_13.edf\n",
            "⬇️ chb20: chb20_68.edf\n",
            "⬇️ chb20: chb20_15.edf\n",
            "⬇️ chb20: chb20_14.edf\n",
            "⬇️ chb20: chb20_16.edf\n",
            "⬇️ chb20: chb20_12.edf\n",
            "⬇️ chb20: chb20_01.edf\n",
            "⬇️ chb21: chb21_19.edf\n",
            "⬇️ chb21: chb21_20.edf\n",
            "⬇️ chb21: chb21_22.edf\n",
            "⬇️ chb21: chb21_21.edf\n",
            "⬇️ chb21: chb21_01.edf\n",
            "⬇️ chb22: chb22_25.edf\n",
            "⬇️ chb22: chb22_20.edf\n",
            "⬇️ chb22: chb22_38.edf\n",
            "⬇️ chb22: chb22_01.edf\n",
            "⬇️ chb23: chb23_08.edf\n",
            "⬇️ chb23: chb23_09.edf\n",
            "⬇️ chb23: chb23_06.edf\n",
            "⬇️ chb23: chb23_07.edf\n",
            "✅ Done: seizure EDFs + 1 non-seizure per patient.\n"
          ]
        }
      ]
    },
    {
      "cell_type": "code",
      "source": [
        "!pip -q install mne numpy scipy scikit-learn matplotlib pandas\n"
      ],
      "metadata": {
        "id": "APCcnD9NwnYP"
      },
      "execution_count": null,
      "outputs": []
    },
    {
      "cell_type": "code",
      "source": [
        "# =========================\n",
        "\n",
        "# CHB-MIT Feature Extraction (robust + dataset-level balance)\n",
        "\n",
        "# =========================\n",
        "\n",
        "!pip -q install mne PyWavelets numpy scipy scikit-learn pandas\n",
        "\n",
        "\n",
        "import os, re, numpy as np, pandas as pd, mne, pywt\n",
        "\n",
        "from scipy.signal import welch\n",
        "\n",
        "from scipy.stats import skew, kurtosis\n",
        "\n",
        "\n",
        "# ---- CONFIG ----\n",
        "\n",
        "BASE     = \"/content/drive/MyDrive/chb_subset\"      # parent folder with chb01..chb23\n",
        "\n",
        "OUT_DIR  = \"/content/drive/MyDrive/chb_outputs\"\n",
        "\n",
        "LOWCUT, HIGHCUT = 0.5, 40.0\n",
        "\n",
        "WSEC     = 5.0\n",
        "\n",
        "HOP_SEC  = 2.5\n",
        "\n",
        "USE_CHANNELS = 3\n",
        "\n",
        "WAVELET, LEVEL = \"db4\", 4\n",
        "\n",
        "RNG = np.random.default_rng(42)\n",
        "\n",
        "\n",
        "os.makedirs(OUT_DIR, exist_ok=True)\n",
        "\n",
        "\n",
        "# ---- ROBUST SUMMARY PARSER ----\n",
        "\n",
        "def parse_summary(summary_path):\n",
        "\n",
        "    \"\"\"Return {edf_lower: [(start,end), ...]} handling the different CHB-MIT formats.\"\"\"\n",
        "\n",
        "    out, cur = {}, None\n",
        "\n",
        "    if not os.path.exists(summary_path):\n",
        "\n",
        "        return out\n",
        "\n",
        "    with open(summary_path, \"r\", errors=\"ignore\") as f:\n",
        "\n",
        "        for raw in f:\n",
        "\n",
        "            s = raw.strip()\n",
        "\n",
        "\n",
        "            # File line variants\n",
        "\n",
        "            m1 = re.match(r\"File\\s*Name:\\s*(.*\\.edf)\", s, flags=re.I)\n",
        "\n",
        "            if m1:\n",
        "\n",
        "                cur = m1.group(1).strip().lower()\n",
        "\n",
        "                out.setdefault(cur, [])\n",
        "\n",
        "                continue\n",
        "\n",
        "            if s.lower().startswith(\"file\"):\n",
        "\n",
        "                parts = s.split(\":\")\n",
        "\n",
        "                if len(parts) > 1 and parts[1].strip().lower().endswith(\".edf\"):\n",
        "\n",
        "                    cur = parts[1].strip().lower()\n",
        "\n",
        "                    out.setdefault(cur, [])\n",
        "\n",
        "                continue\n",
        "\n",
        "\n",
        "            # Start/End variants (extract any number on line when it says seizure + start/end)\n",
        "\n",
        "            if cur and (\"seizure\" in s.lower()) and (\"start\" in s.lower()):\n",
        "\n",
        "                nums = re.findall(r\"\\d+\", s)\n",
        "\n",
        "                if nums:\n",
        "\n",
        "                    out.setdefault(cur, [])\n",
        "\n",
        "                    out[cur].append([int(nums[0]), None])\n",
        "\n",
        "                continue\n",
        "\n",
        "            if cur and (\"seizure\" in s.lower()) and (\"end\" in s.lower()):\n",
        "\n",
        "                nums = re.findall(r\"\\d+\", s)\n",
        "\n",
        "                if nums and out.get(cur):\n",
        "\n",
        "                    out[cur][-1][1] = int(nums[0])\n",
        "\n",
        "                continue\n",
        "\n",
        "\n",
        "    # clean incomplete intervals\n",
        "\n",
        "    for k, ivs in list(out.items()):\n",
        "\n",
        "        clean = []\n",
        "\n",
        "        for iv in ivs:\n",
        "\n",
        "            if iv and len(iv) == 2 and iv[0] is not None and iv[1] is not None and iv[1] > iv[0]:\n",
        "\n",
        "                clean.append((int(iv[0]), int(iv[1])))\n",
        "\n",
        "        out[k] = clean\n",
        "\n",
        "    return out\n",
        "\n",
        "\n",
        "# ---- feature helpers ----\n",
        "\n",
        "def bandpower(seg, sf, bands=[(0.5,4),(4,8),(8,13),(13,30)]):\n",
        "\n",
        "    f, Pxx = welch(seg, fs=sf, nperseg=min(256, len(seg)))\n",
        "\n",
        "    vals=[]\n",
        "\n",
        "    for (a,b) in bands:\n",
        "\n",
        "        m=(f>=a)&(f<=b)\n",
        "\n",
        "        vals.append(float(np.trapz(Pxx[m], f[m])) if m.any() else 0.0)\n",
        "\n",
        "    return vals\n",
        "\n",
        "\n",
        "def spectral_entropy(seg, sf):\n",
        "\n",
        "    f, Pxx = welch(seg, fs=sf, nperseg=min(256, len(seg)))\n",
        "\n",
        "    P = Pxx / (np.sum(Pxx) + 1e-12)\n",
        "\n",
        "    return float(-np.sum(P * np.log(P + 1e-12)))\n",
        "\n",
        "\n",
        "def wavelet_feats(seg, wavelet=WAVELET, level=LEVEL):\n",
        "\n",
        "    coeffs = pywt.wavedec(seg, wavelet, level=level)  # A4,D4,D3,D2,D1\n",
        "\n",
        "    feats=[]\n",
        "\n",
        "    for c in coeffs:\n",
        "\n",
        "        feats += [float(np.mean(c)), float(np.std(c)), float(np.sum(c**2))]\n",
        "\n",
        "    return feats  # 15\n",
        "\n",
        "\n",
        "def feature_names(ch_suffix=\"\"):\n",
        "\n",
        "    names = [\"mean\",\"std\",\"ptp\",\"energy\",\"skew\",\"kurtosis\",\"spec_entropy\"]  # 7\n",
        "\n",
        "    for b in [\"A4\",\"D4\",\"D3\",\"D2\",\"D1\"]:                                    # 15\n",
        "\n",
        "        names += [f\"wav_{b}_mean\", f\"wav_{b}_std\", f\"wav_{b}_energy\"]\n",
        "\n",
        "    names += [\"delta_power\",\"theta_power\",\"alpha_power\",\"beta_power\"]        # 4\n",
        "\n",
        "    if ch_suffix:\n",
        "\n",
        "        names = [f\"{n}_{ch_suffix}\" for n in names]\n",
        "\n",
        "    return names  # 26 per channel\n",
        "\n",
        "\n",
        "def window_overlaps(i, wsec, intervals, hop_sec):\n",
        "\n",
        "    s = i*hop_sec; e = s + wsec\n",
        "\n",
        "    for a,b in intervals:\n",
        "\n",
        "        if not (e <= a or s >= b):\n",
        "\n",
        "            return 1\n",
        "\n",
        "    return 0\n",
        "\n",
        "\n",
        "# ---- discover patients dynamically ----\n",
        "\n",
        "patients = sorted([d for d in os.listdir(BASE)\n",
        "\n",
        "                   if d.startswith(\"chb\") and os.path.isdir(os.path.join(BASE,d))])\n",
        "\n",
        "print(\"Patients found:\", patients)\n",
        "\n",
        "\n",
        "# ---- extract ALL windows first ----\n",
        "\n",
        "X_rows, y_rows, meta_rows = [], [], []\n",
        "\n",
        "total_files, files_with_seiz = 0, 0\n",
        "\n",
        "\n",
        "for p in patients:\n",
        "\n",
        "    pdir = os.path.join(BASE, p)\n",
        "\n",
        "    summ = [f for f in os.listdir(pdir) if f.endswith(\"summary.txt\")]\n",
        "\n",
        "    if not summ:\n",
        "\n",
        "        print(f\"[WARN] {p}: no summary.txt, skipping\")\n",
        "\n",
        "        continue\n",
        "\n",
        "    smap = parse_summary(os.path.join(pdir, summ[0]))\n",
        "\n",
        "    n_files_with_sz = sum(1 for k,v in smap.items() if len(v) > 0)\n",
        "\n",
        "    files_with_seiz += n_files_with_sz\n",
        "\n",
        "\n",
        "    edfs = sorted([f for f in os.listdir(pdir) if f.lower().endswith(\".edf\")])\n",
        "\n",
        "    total_files += len(edfs)\n",
        "\n",
        "    print(f\"[{p}] EDFs:{len(edfs)} | with seizures in summary:{n_files_with_sz}\")\n",
        "\n",
        "\n",
        "    for ef in edfs:\n",
        "\n",
        "        path = os.path.join(pdir, ef)\n",
        "\n",
        "        try:\n",
        "\n",
        "            raw = mne.io.read_raw_edf(path, preload=True, verbose=False)\n",
        "\n",
        "        except Exception as e:\n",
        "\n",
        "            print(f\"[ERR] read {p}/{ef}: {e}\")\n",
        "\n",
        "            continue\n",
        "\n",
        "\n",
        "        # pick first non-ECG channels\n",
        "\n",
        "        chs = [c for c in raw.ch_names if \"ECG\" not in c.upper()]\n",
        "\n",
        "        if not chs: chs = raw.ch_names\n",
        "\n",
        "        chs = chs[:USE_CHANNELS]\n",
        "\n",
        "        raw.pick_channels(chs)\n",
        "\n",
        "\n",
        "        # band-pass\n",
        "\n",
        "        try:\n",
        "\n",
        "            raw.filter(LOWCUT, HIGHCUT, verbose=False)\n",
        "\n",
        "        except Exception as e:\n",
        "\n",
        "            print(f\"[WARN] filter {p}/{ef}: {e}\")\n",
        "\n",
        "\n",
        "        sf = int(raw.info[\"sfreq\"])\n",
        "\n",
        "        sig = raw.get_data()  # (C, N)\n",
        "\n",
        "\n",
        "        hop = int(HOP_SEC * sf)\n",
        "\n",
        "        win = int(WSEC * sf)\n",
        "\n",
        "        if sig.shape[1] < win:\n",
        "\n",
        "            continue\n",
        "\n",
        "        nwin = 1 + (sig.shape[1] - win) // hop\n",
        "\n",
        "\n",
        "        intervals = smap.get(ef.lower(), [])\n",
        "\n",
        "        seiz_set = set([i for i in range(nwin) if window_overlaps(i, WSEC, intervals, HOP_SEC)==1])\n",
        "\n",
        "\n",
        "        for i in range(nwin):  # keep ALL windows\n",
        "\n",
        "            feat_vec=[]\n",
        "\n",
        "            s0 = i*hop; s1 = s0 + win\n",
        "\n",
        "            for ci in range(sig.shape[0]):\n",
        "\n",
        "                seg = sig[ci, s0:s1]\n",
        "\n",
        "                if not np.isfinite(seg).all():\n",
        "\n",
        "                    seg = np.nan_to_num(seg, nan=0.0, posinf=0.0, neginf=0.0)\n",
        "\n",
        "\n",
        "                stats = [\n",
        "\n",
        "                    float(np.mean(seg)), float(np.std(seg)), float(np.ptp(seg)),\n",
        "\n",
        "                    float(np.sum(seg**2)), float(skew(seg, bias=False)),\n",
        "\n",
        "                    float(kurtosis(seg, fisher=True, bias=False)), spectral_entropy(seg, sf)\n",
        "\n",
        "                ]\n",
        "\n",
        "                wfe = wavelet_feats(seg)\n",
        "\n",
        "                bp  = bandpower(seg, sf)\n",
        "\n",
        "                feat_vec.extend(stats + wfe + bp)\n",
        "\n",
        "\n",
        "            X_rows.append(feat_vec)\n",
        "\n",
        "            y_rows.append(1 if i in seiz_set else 0)\n",
        "\n",
        "            meta_rows.append({\n",
        "\n",
        "                \"patient\": p, \"file\": ef, \"window_idx\": int(i),\n",
        "\n",
        "                \"start_sec\": float(i*HOP_SEC), \"end_sec\": float(i*HOP_SEC + WSEC)\n",
        "\n",
        "            })\n",
        "\n",
        "\n",
        "print(f\"\\nFiles scanned: {total_files} | files with seizures in summary: {files_with_seiz}\")\n",
        "\n",
        "print(\"Raw label counts BEFORE balancing:\",\n",
        "\n",
        "      \"seizure =\", int(sum(y_rows)), \"non-seizure =\", int(len(y_rows)-sum(y_rows)))\n",
        "\n",
        "\n",
        "# ---- if all-one-class, stop with a friendly message\n",
        "\n",
        "if sum(y_rows) == 0 or sum(y_rows) == len(y_rows):\n",
        "\n",
        "    raise RuntimeError(\"Still got one-class labels (all 0 or all 1). \"\n",
        "\n",
        "                       \"This means the parser found no seizure intervals for the EDFs you processed. \"\n",
        "\n",
        "                       \"Check that the new patients actually have seizure EDFs downloaded and summaries are present.\")\n",
        "\n",
        "\n",
        "# ---- dataset-level balancing (1:1 globally)\n",
        "\n",
        "y_np = np.array(y_rows)\n",
        "\n",
        "pos_idx = np.where(y_np == 1)[0]\n",
        "\n",
        "neg_idx = np.where(y_np == 0)[0]\n",
        "\n",
        "\n",
        "RNG = np.random.default_rng(42)\n",
        "\n",
        "neg_keep = RNG.choice(neg_idx, size=len(pos_idx), replace=False)\n",
        "\n",
        "keep_idx = np.sort(np.concatenate([pos_idx, neg_keep]))\n",
        "\n",
        "\n",
        "# filter\n",
        "\n",
        "X_rows   = [X_rows[i] for i in keep_idx]\n",
        "\n",
        "y_rows   = [y_rows[i] for i in keep_idx]\n",
        "\n",
        "meta_rows= [meta_rows[i] for i in keep_idx]\n",
        "\n",
        "\n",
        "# ---- build DataFrames\n",
        "\n",
        "colnames=[]\n",
        "\n",
        "for ch in range(USE_CHANNELS):\n",
        "\n",
        "    suf = \"\" if USE_CHANNELS==1 else f\"ch{ch+1}\"\n",
        "\n",
        "    colnames += feature_names(suf)\n",
        "\n",
        "\n",
        "X    = pd.DataFrame(X_rows, columns=colnames)\n",
        "\n",
        "y    = pd.Series(y_rows, name=\"label\")\n",
        "\n",
        "meta = pd.DataFrame(meta_rows)\n",
        "\n",
        "\n",
        "print(\"\\nAFTER balancing:\")\n",
        "\n",
        "print(\"Shapes  -> X:\", X.shape, \" y:\", y.shape, \" meta:\", meta.shape)\n",
        "\n",
        "print(\"Labels  -> seizure:\", int(y.sum()), \" non-seizure:\", int((1-y).sum()))\n",
        "\n",
        "\n",
        "# ---- Save\n",
        "\n",
        "X.to_csv(f\"{OUT_DIR}/features_balanced.csv\", index=False)\n",
        "\n",
        "y.to_csv(f\"{OUT_DIR}/labels_balanced.csv\",  index=False)\n",
        "\n",
        "meta.to_csv(f\"{OUT_DIR}/meta_balanced.csv\", index=False)\n",
        "\n",
        "print(\"\\n✅ Saved:\")\n",
        "\n",
        "print(f\"  {OUT_DIR}/features_balanced.csv\")\n",
        "\n",
        "print(f\"  {OUT_DIR}/labels_balanced.csv\")\n",
        "\n",
        "print(f\"  {OUT_DIR}/meta_balanced.csv\")"
      ],
      "metadata": {
        "id": "ZAxBBCSYNE_q",
        "colab": {
          "base_uri": "https://localhost:8080/"
        },
        "outputId": "b21b2b66-3aff-4279-fa67-4cb94e7886b3"
      },
      "execution_count": null,
      "outputs": [
        {
          "output_type": "stream",
          "name": "stdout",
          "text": [
            "Patients found: ['chb01', 'chb02', 'chb03', 'chb04', 'chb05', 'chb06', 'chb07', 'chb08', 'chb09', 'chb10', 'chb11', 'chb12', 'chb13', 'chb14', 'chb15', 'chb16', 'chb17', 'chb18', 'chb19', 'chb20', 'chb21', 'chb22', 'chb23']\n",
            "[WARN] chb01: no summary.txt, skipping\n",
            "[chb02] EDFs:3 | with seizures in summary:3\n"
          ]
        },
        {
          "output_type": "stream",
          "name": "stderr",
          "text": [
            "/tmp/ipython-input-744578063.py:242: RuntimeWarning: Channel names are not unique, found duplicates for: {'T8-P8'}. Applying running numbers for duplicates.\n",
            "  raw = mne.io.read_raw_edf(path, preload=True, verbose=False)\n"
          ]
        },
        {
          "output_type": "stream",
          "name": "stdout",
          "text": [
            "NOTE: pick_channels() is a legacy function. New code should use inst.pick(...).\n"
          ]
        },
        {
          "output_type": "stream",
          "name": "stderr",
          "text": [
            "/tmp/ipython-input-744578063.py:137: DeprecationWarning: `trapz` is deprecated. Use `trapezoid` instead, or one of the numerical integration functions in `scipy.integrate`.\n",
            "  vals.append(float(np.trapz(Pxx[m], f[m])) if m.any() else 0.0)\n"
          ]
        },
        {
          "output_type": "stream",
          "name": "stdout",
          "text": [
            "NOTE: pick_channels() is a legacy function. New code should use inst.pick(...).\n"
          ]
        },
        {
          "output_type": "stream",
          "name": "stderr",
          "text": [
            "/tmp/ipython-input-744578063.py:242: RuntimeWarning: Channel names are not unique, found duplicates for: {'T8-P8'}. Applying running numbers for duplicates.\n",
            "  raw = mne.io.read_raw_edf(path, preload=True, verbose=False)\n",
            "/tmp/ipython-input-744578063.py:242: RuntimeWarning: Channel names are not unique, found duplicates for: {'T8-P8'}. Applying running numbers for duplicates.\n",
            "  raw = mne.io.read_raw_edf(path, preload=True, verbose=False)\n"
          ]
        },
        {
          "output_type": "stream",
          "name": "stdout",
          "text": [
            "NOTE: pick_channels() is a legacy function. New code should use inst.pick(...).\n",
            "[chb03] EDFs:8 | with seizures in summary:7\n"
          ]
        },
        {
          "output_type": "stream",
          "name": "stderr",
          "text": [
            "/tmp/ipython-input-744578063.py:242: RuntimeWarning: Channel names are not unique, found duplicates for: {'T8-P8'}. Applying running numbers for duplicates.\n",
            "  raw = mne.io.read_raw_edf(path, preload=True, verbose=False)\n"
          ]
        },
        {
          "output_type": "stream",
          "name": "stdout",
          "text": [
            "NOTE: pick_channels() is a legacy function. New code should use inst.pick(...).\n"
          ]
        },
        {
          "output_type": "stream",
          "name": "stderr",
          "text": [
            "/tmp/ipython-input-744578063.py:242: RuntimeWarning: Channel names are not unique, found duplicates for: {'T8-P8'}. Applying running numbers for duplicates.\n",
            "  raw = mne.io.read_raw_edf(path, preload=True, verbose=False)\n"
          ]
        },
        {
          "output_type": "stream",
          "name": "stdout",
          "text": [
            "NOTE: pick_channels() is a legacy function. New code should use inst.pick(...).\n"
          ]
        },
        {
          "output_type": "stream",
          "name": "stderr",
          "text": [
            "/tmp/ipython-input-744578063.py:242: RuntimeWarning: Channel names are not unique, found duplicates for: {'T8-P8'}. Applying running numbers for duplicates.\n",
            "  raw = mne.io.read_raw_edf(path, preload=True, verbose=False)\n"
          ]
        },
        {
          "output_type": "stream",
          "name": "stdout",
          "text": [
            "NOTE: pick_channels() is a legacy function. New code should use inst.pick(...).\n"
          ]
        },
        {
          "output_type": "stream",
          "name": "stderr",
          "text": [
            "/tmp/ipython-input-744578063.py:242: RuntimeWarning: Channel names are not unique, found duplicates for: {'T8-P8'}. Applying running numbers for duplicates.\n",
            "  raw = mne.io.read_raw_edf(path, preload=True, verbose=False)\n"
          ]
        },
        {
          "output_type": "stream",
          "name": "stdout",
          "text": [
            "NOTE: pick_channels() is a legacy function. New code should use inst.pick(...).\n"
          ]
        },
        {
          "output_type": "stream",
          "name": "stderr",
          "text": [
            "/tmp/ipython-input-744578063.py:242: RuntimeWarning: Channel names are not unique, found duplicates for: {'T8-P8'}. Applying running numbers for duplicates.\n",
            "  raw = mne.io.read_raw_edf(path, preload=True, verbose=False)\n"
          ]
        },
        {
          "output_type": "stream",
          "name": "stdout",
          "text": [
            "NOTE: pick_channels() is a legacy function. New code should use inst.pick(...).\n"
          ]
        },
        {
          "output_type": "stream",
          "name": "stderr",
          "text": [
            "/tmp/ipython-input-744578063.py:242: RuntimeWarning: Channel names are not unique, found duplicates for: {'T8-P8'}. Applying running numbers for duplicates.\n",
            "  raw = mne.io.read_raw_edf(path, preload=True, verbose=False)\n"
          ]
        },
        {
          "output_type": "stream",
          "name": "stdout",
          "text": [
            "NOTE: pick_channels() is a legacy function. New code should use inst.pick(...).\n"
          ]
        },
        {
          "output_type": "stream",
          "name": "stderr",
          "text": [
            "/tmp/ipython-input-744578063.py:242: RuntimeWarning: Channel names are not unique, found duplicates for: {'T8-P8'}. Applying running numbers for duplicates.\n",
            "  raw = mne.io.read_raw_edf(path, preload=True, verbose=False)\n"
          ]
        },
        {
          "output_type": "stream",
          "name": "stdout",
          "text": [
            "NOTE: pick_channels() is a legacy function. New code should use inst.pick(...).\n"
          ]
        },
        {
          "output_type": "stream",
          "name": "stderr",
          "text": [
            "/tmp/ipython-input-744578063.py:242: RuntimeWarning: Channel names are not unique, found duplicates for: {'T8-P8'}. Applying running numbers for duplicates.\n",
            "  raw = mne.io.read_raw_edf(path, preload=True, verbose=False)\n"
          ]
        },
        {
          "output_type": "stream",
          "name": "stdout",
          "text": [
            "NOTE: pick_channels() is a legacy function. New code should use inst.pick(...).\n",
            "[chb04] EDFs:4 | with seizures in summary:2\n"
          ]
        },
        {
          "output_type": "stream",
          "name": "stderr",
          "text": [
            "/tmp/ipython-input-744578063.py:242: RuntimeWarning: Channel names are not unique, found duplicates for: {'T8-P8'}. Applying running numbers for duplicates.\n",
            "  raw = mne.io.read_raw_edf(path, preload=True, verbose=False)\n"
          ]
        },
        {
          "output_type": "stream",
          "name": "stdout",
          "text": [
            "NOTE: pick_channels() is a legacy function. New code should use inst.pick(...).\n"
          ]
        },
        {
          "output_type": "stream",
          "name": "stderr",
          "text": [
            "/tmp/ipython-input-744578063.py:242: RuntimeWarning: Channel names are not unique, found duplicates for: {'T8-P8'}. Applying running numbers for duplicates.\n",
            "  raw = mne.io.read_raw_edf(path, preload=True, verbose=False)\n"
          ]
        },
        {
          "output_type": "stream",
          "name": "stdout",
          "text": [
            "NOTE: pick_channels() is a legacy function. New code should use inst.pick(...).\n"
          ]
        },
        {
          "output_type": "stream",
          "name": "stderr",
          "text": [
            "/tmp/ipython-input-744578063.py:242: RuntimeWarning: Channel names are not unique, found duplicates for: {'T8-P8'}. Applying running numbers for duplicates.\n",
            "  raw = mne.io.read_raw_edf(path, preload=True, verbose=False)\n"
          ]
        },
        {
          "output_type": "stream",
          "name": "stdout",
          "text": [
            "NOTE: pick_channels() is a legacy function. New code should use inst.pick(...).\n"
          ]
        },
        {
          "output_type": "stream",
          "name": "stderr",
          "text": [
            "/tmp/ipython-input-744578063.py:242: RuntimeWarning: Channel names are not unique, found duplicates for: {'T8-P8'}. Applying running numbers for duplicates.\n",
            "  raw = mne.io.read_raw_edf(path, preload=True, verbose=False)\n"
          ]
        },
        {
          "output_type": "stream",
          "name": "stdout",
          "text": [
            "NOTE: pick_channels() is a legacy function. New code should use inst.pick(...).\n",
            "[chb05] EDFs:6 | with seizures in summary:5\n"
          ]
        },
        {
          "output_type": "stream",
          "name": "stderr",
          "text": [
            "/tmp/ipython-input-744578063.py:242: RuntimeWarning: Channel names are not unique, found duplicates for: {'T8-P8'}. Applying running numbers for duplicates.\n",
            "  raw = mne.io.read_raw_edf(path, preload=True, verbose=False)\n"
          ]
        },
        {
          "output_type": "stream",
          "name": "stdout",
          "text": [
            "NOTE: pick_channels() is a legacy function. New code should use inst.pick(...).\n"
          ]
        },
        {
          "output_type": "stream",
          "name": "stderr",
          "text": [
            "/tmp/ipython-input-744578063.py:242: RuntimeWarning: Channel names are not unique, found duplicates for: {'T8-P8'}. Applying running numbers for duplicates.\n",
            "  raw = mne.io.read_raw_edf(path, preload=True, verbose=False)\n"
          ]
        },
        {
          "output_type": "stream",
          "name": "stdout",
          "text": [
            "NOTE: pick_channels() is a legacy function. New code should use inst.pick(...).\n"
          ]
        },
        {
          "output_type": "stream",
          "name": "stderr",
          "text": [
            "/tmp/ipython-input-744578063.py:242: RuntimeWarning: Channel names are not unique, found duplicates for: {'T8-P8'}. Applying running numbers for duplicates.\n",
            "  raw = mne.io.read_raw_edf(path, preload=True, verbose=False)\n"
          ]
        },
        {
          "output_type": "stream",
          "name": "stdout",
          "text": [
            "NOTE: pick_channels() is a legacy function. New code should use inst.pick(...).\n"
          ]
        },
        {
          "output_type": "stream",
          "name": "stderr",
          "text": [
            "/tmp/ipython-input-744578063.py:242: RuntimeWarning: Channel names are not unique, found duplicates for: {'T8-P8'}. Applying running numbers for duplicates.\n",
            "  raw = mne.io.read_raw_edf(path, preload=True, verbose=False)\n"
          ]
        },
        {
          "output_type": "stream",
          "name": "stdout",
          "text": [
            "NOTE: pick_channels() is a legacy function. New code should use inst.pick(...).\n"
          ]
        },
        {
          "output_type": "stream",
          "name": "stderr",
          "text": [
            "/tmp/ipython-input-744578063.py:242: RuntimeWarning: Channel names are not unique, found duplicates for: {'T8-P8'}. Applying running numbers for duplicates.\n",
            "  raw = mne.io.read_raw_edf(path, preload=True, verbose=False)\n"
          ]
        },
        {
          "output_type": "stream",
          "name": "stdout",
          "text": [
            "NOTE: pick_channels() is a legacy function. New code should use inst.pick(...).\n"
          ]
        },
        {
          "output_type": "stream",
          "name": "stderr",
          "text": [
            "/tmp/ipython-input-744578063.py:242: RuntimeWarning: Channel names are not unique, found duplicates for: {'T8-P8'}. Applying running numbers for duplicates.\n",
            "  raw = mne.io.read_raw_edf(path, preload=True, verbose=False)\n"
          ]
        },
        {
          "output_type": "stream",
          "name": "stdout",
          "text": [
            "NOTE: pick_channels() is a legacy function. New code should use inst.pick(...).\n",
            "[chb06] EDFs:8 | with seizures in summary:0\n"
          ]
        },
        {
          "output_type": "stream",
          "name": "stderr",
          "text": [
            "/tmp/ipython-input-744578063.py:242: RuntimeWarning: Channel names are not unique, found duplicates for: {'T8-P8'}. Applying running numbers for duplicates.\n",
            "  raw = mne.io.read_raw_edf(path, preload=True, verbose=False)\n"
          ]
        },
        {
          "output_type": "stream",
          "name": "stdout",
          "text": [
            "NOTE: pick_channels() is a legacy function. New code should use inst.pick(...).\n"
          ]
        },
        {
          "output_type": "stream",
          "name": "stderr",
          "text": [
            "/tmp/ipython-input-744578063.py:242: RuntimeWarning: Channel names are not unique, found duplicates for: {'T8-P8'}. Applying running numbers for duplicates.\n",
            "  raw = mne.io.read_raw_edf(path, preload=True, verbose=False)\n"
          ]
        },
        {
          "output_type": "stream",
          "name": "stdout",
          "text": [
            "NOTE: pick_channels() is a legacy function. New code should use inst.pick(...).\n"
          ]
        },
        {
          "output_type": "stream",
          "name": "stderr",
          "text": [
            "/tmp/ipython-input-744578063.py:242: RuntimeWarning: Channel names are not unique, found duplicates for: {'T8-P8'}. Applying running numbers for duplicates.\n",
            "  raw = mne.io.read_raw_edf(path, preload=True, verbose=False)\n"
          ]
        },
        {
          "output_type": "stream",
          "name": "stdout",
          "text": [
            "NOTE: pick_channels() is a legacy function. New code should use inst.pick(...).\n"
          ]
        },
        {
          "output_type": "stream",
          "name": "stderr",
          "text": [
            "/tmp/ipython-input-744578063.py:242: RuntimeWarning: Channel names are not unique, found duplicates for: {'T8-P8'}. Applying running numbers for duplicates.\n",
            "  raw = mne.io.read_raw_edf(path, preload=True, verbose=False)\n"
          ]
        },
        {
          "output_type": "stream",
          "name": "stdout",
          "text": [
            "NOTE: pick_channels() is a legacy function. New code should use inst.pick(...).\n"
          ]
        },
        {
          "output_type": "stream",
          "name": "stderr",
          "text": [
            "/tmp/ipython-input-744578063.py:242: RuntimeWarning: Channel names are not unique, found duplicates for: {'T8-P8'}. Applying running numbers for duplicates.\n",
            "  raw = mne.io.read_raw_edf(path, preload=True, verbose=False)\n"
          ]
        },
        {
          "output_type": "stream",
          "name": "stdout",
          "text": [
            "NOTE: pick_channels() is a legacy function. New code should use inst.pick(...).\n"
          ]
        },
        {
          "output_type": "stream",
          "name": "stderr",
          "text": [
            "/tmp/ipython-input-744578063.py:242: RuntimeWarning: Channel names are not unique, found duplicates for: {'T8-P8'}. Applying running numbers for duplicates.\n",
            "  raw = mne.io.read_raw_edf(path, preload=True, verbose=False)\n"
          ]
        },
        {
          "output_type": "stream",
          "name": "stdout",
          "text": [
            "NOTE: pick_channels() is a legacy function. New code should use inst.pick(...).\n"
          ]
        },
        {
          "output_type": "stream",
          "name": "stderr",
          "text": [
            "/tmp/ipython-input-744578063.py:242: RuntimeWarning: Channel names are not unique, found duplicates for: {'T8-P8'}. Applying running numbers for duplicates.\n",
            "  raw = mne.io.read_raw_edf(path, preload=True, verbose=False)\n"
          ]
        },
        {
          "output_type": "stream",
          "name": "stdout",
          "text": [
            "NOTE: pick_channels() is a legacy function. New code should use inst.pick(...).\n"
          ]
        },
        {
          "output_type": "stream",
          "name": "stderr",
          "text": [
            "/tmp/ipython-input-744578063.py:242: RuntimeWarning: Channel names are not unique, found duplicates for: {'T8-P8'}. Applying running numbers for duplicates.\n",
            "  raw = mne.io.read_raw_edf(path, preload=True, verbose=False)\n"
          ]
        },
        {
          "output_type": "stream",
          "name": "stdout",
          "text": [
            "NOTE: pick_channels() is a legacy function. New code should use inst.pick(...).\n",
            "[chb07] EDFs:4 | with seizures in summary:0\n"
          ]
        },
        {
          "output_type": "stream",
          "name": "stderr",
          "text": [
            "/tmp/ipython-input-744578063.py:242: RuntimeWarning: Channel names are not unique, found duplicates for: {'T8-P8'}. Applying running numbers for duplicates.\n",
            "  raw = mne.io.read_raw_edf(path, preload=True, verbose=False)\n"
          ]
        },
        {
          "output_type": "stream",
          "name": "stdout",
          "text": [
            "NOTE: pick_channels() is a legacy function. New code should use inst.pick(...).\n"
          ]
        },
        {
          "output_type": "stream",
          "name": "stderr",
          "text": [
            "/tmp/ipython-input-744578063.py:242: RuntimeWarning: Channel names are not unique, found duplicates for: {'T8-P8'}. Applying running numbers for duplicates.\n",
            "  raw = mne.io.read_raw_edf(path, preload=True, verbose=False)\n"
          ]
        },
        {
          "output_type": "stream",
          "name": "stdout",
          "text": [
            "NOTE: pick_channels() is a legacy function. New code should use inst.pick(...).\n"
          ]
        },
        {
          "output_type": "stream",
          "name": "stderr",
          "text": [
            "/tmp/ipython-input-744578063.py:242: RuntimeWarning: Channel names are not unique, found duplicates for: {'T8-P8'}. Applying running numbers for duplicates.\n",
            "  raw = mne.io.read_raw_edf(path, preload=True, verbose=False)\n"
          ]
        },
        {
          "output_type": "stream",
          "name": "stdout",
          "text": [
            "NOTE: pick_channels() is a legacy function. New code should use inst.pick(...).\n"
          ]
        },
        {
          "output_type": "stream",
          "name": "stderr",
          "text": [
            "/tmp/ipython-input-744578063.py:242: RuntimeWarning: Channel names are not unique, found duplicates for: {'T8-P8'}. Applying running numbers for duplicates.\n",
            "  raw = mne.io.read_raw_edf(path, preload=True, verbose=False)\n"
          ]
        },
        {
          "output_type": "stream",
          "name": "stdout",
          "text": [
            "NOTE: pick_channels() is a legacy function. New code should use inst.pick(...).\n",
            "[chb08] EDFs:6 | with seizures in summary:0\n"
          ]
        },
        {
          "output_type": "stream",
          "name": "stderr",
          "text": [
            "/tmp/ipython-input-744578063.py:242: RuntimeWarning: Channel names are not unique, found duplicates for: {'T8-P8'}. Applying running numbers for duplicates.\n",
            "  raw = mne.io.read_raw_edf(path, preload=True, verbose=False)\n"
          ]
        },
        {
          "output_type": "stream",
          "name": "stdout",
          "text": [
            "NOTE: pick_channels() is a legacy function. New code should use inst.pick(...).\n"
          ]
        },
        {
          "output_type": "stream",
          "name": "stderr",
          "text": [
            "/tmp/ipython-input-744578063.py:242: RuntimeWarning: Channel names are not unique, found duplicates for: {'T8-P8'}. Applying running numbers for duplicates.\n",
            "  raw = mne.io.read_raw_edf(path, preload=True, verbose=False)\n"
          ]
        },
        {
          "output_type": "stream",
          "name": "stdout",
          "text": [
            "NOTE: pick_channels() is a legacy function. New code should use inst.pick(...).\n"
          ]
        },
        {
          "output_type": "stream",
          "name": "stderr",
          "text": [
            "/tmp/ipython-input-744578063.py:242: RuntimeWarning: Channel names are not unique, found duplicates for: {'T8-P8'}. Applying running numbers for duplicates.\n",
            "  raw = mne.io.read_raw_edf(path, preload=True, verbose=False)\n"
          ]
        },
        {
          "output_type": "stream",
          "name": "stdout",
          "text": [
            "NOTE: pick_channels() is a legacy function. New code should use inst.pick(...).\n"
          ]
        },
        {
          "output_type": "stream",
          "name": "stderr",
          "text": [
            "/tmp/ipython-input-744578063.py:242: RuntimeWarning: Channel names are not unique, found duplicates for: {'T8-P8'}. Applying running numbers for duplicates.\n",
            "  raw = mne.io.read_raw_edf(path, preload=True, verbose=False)\n"
          ]
        },
        {
          "output_type": "stream",
          "name": "stdout",
          "text": [
            "NOTE: pick_channels() is a legacy function. New code should use inst.pick(...).\n"
          ]
        },
        {
          "output_type": "stream",
          "name": "stderr",
          "text": [
            "/tmp/ipython-input-744578063.py:242: RuntimeWarning: Channel names are not unique, found duplicates for: {'T8-P8'}. Applying running numbers for duplicates.\n",
            "  raw = mne.io.read_raw_edf(path, preload=True, verbose=False)\n"
          ]
        },
        {
          "output_type": "stream",
          "name": "stdout",
          "text": [
            "NOTE: pick_channels() is a legacy function. New code should use inst.pick(...).\n"
          ]
        },
        {
          "output_type": "stream",
          "name": "stderr",
          "text": [
            "/tmp/ipython-input-744578063.py:242: RuntimeWarning: Channel names are not unique, found duplicates for: {'T8-P8'}. Applying running numbers for duplicates.\n",
            "  raw = mne.io.read_raw_edf(path, preload=True, verbose=False)\n"
          ]
        },
        {
          "output_type": "stream",
          "name": "stdout",
          "text": [
            "NOTE: pick_channels() is a legacy function. New code should use inst.pick(...).\n",
            "[chb09] EDFs:4 | with seizures in summary:0\n"
          ]
        },
        {
          "output_type": "stream",
          "name": "stderr",
          "text": [
            "/tmp/ipython-input-744578063.py:242: RuntimeWarning: Channel names are not unique, found duplicates for: {'T8-P8'}. Applying running numbers for duplicates.\n",
            "  raw = mne.io.read_raw_edf(path, preload=True, verbose=False)\n"
          ]
        },
        {
          "output_type": "stream",
          "name": "stdout",
          "text": [
            "NOTE: pick_channels() is a legacy function. New code should use inst.pick(...).\n"
          ]
        },
        {
          "output_type": "stream",
          "name": "stderr",
          "text": [
            "/tmp/ipython-input-744578063.py:242: RuntimeWarning: Channel names are not unique, found duplicates for: {'T8-P8'}. Applying running numbers for duplicates.\n",
            "  raw = mne.io.read_raw_edf(path, preload=True, verbose=False)\n"
          ]
        },
        {
          "output_type": "stream",
          "name": "stdout",
          "text": [
            "NOTE: pick_channels() is a legacy function. New code should use inst.pick(...).\n"
          ]
        },
        {
          "output_type": "stream",
          "name": "stderr",
          "text": [
            "/tmp/ipython-input-744578063.py:242: RuntimeWarning: Channel names are not unique, found duplicates for: {'T8-P8'}. Applying running numbers for duplicates.\n",
            "  raw = mne.io.read_raw_edf(path, preload=True, verbose=False)\n"
          ]
        },
        {
          "output_type": "stream",
          "name": "stdout",
          "text": [
            "NOTE: pick_channels() is a legacy function. New code should use inst.pick(...).\n"
          ]
        },
        {
          "output_type": "stream",
          "name": "stderr",
          "text": [
            "/tmp/ipython-input-744578063.py:242: RuntimeWarning: Channel names are not unique, found duplicates for: {'T8-P8'}. Applying running numbers for duplicates.\n",
            "  raw = mne.io.read_raw_edf(path, preload=True, verbose=False)\n"
          ]
        },
        {
          "output_type": "stream",
          "name": "stdout",
          "text": [
            "NOTE: pick_channels() is a legacy function. New code should use inst.pick(...).\n",
            "[chb10] EDFs:8 | with seizures in summary:0\n"
          ]
        },
        {
          "output_type": "stream",
          "name": "stderr",
          "text": [
            "/tmp/ipython-input-744578063.py:242: RuntimeWarning: Channel names are not unique, found duplicates for: {'T8-P8'}. Applying running numbers for duplicates.\n",
            "  raw = mne.io.read_raw_edf(path, preload=True, verbose=False)\n"
          ]
        },
        {
          "output_type": "stream",
          "name": "stdout",
          "text": [
            "NOTE: pick_channels() is a legacy function. New code should use inst.pick(...).\n"
          ]
        },
        {
          "output_type": "stream",
          "name": "stderr",
          "text": [
            "/tmp/ipython-input-744578063.py:242: RuntimeWarning: Channel names are not unique, found duplicates for: {'T8-P8'}. Applying running numbers for duplicates.\n",
            "  raw = mne.io.read_raw_edf(path, preload=True, verbose=False)\n"
          ]
        },
        {
          "output_type": "stream",
          "name": "stdout",
          "text": [
            "NOTE: pick_channels() is a legacy function. New code should use inst.pick(...).\n"
          ]
        },
        {
          "output_type": "stream",
          "name": "stderr",
          "text": [
            "/tmp/ipython-input-744578063.py:242: RuntimeWarning: Channel names are not unique, found duplicates for: {'T8-P8'}. Applying running numbers for duplicates.\n",
            "  raw = mne.io.read_raw_edf(path, preload=True, verbose=False)\n"
          ]
        },
        {
          "output_type": "stream",
          "name": "stdout",
          "text": [
            "NOTE: pick_channels() is a legacy function. New code should use inst.pick(...).\n"
          ]
        },
        {
          "output_type": "stream",
          "name": "stderr",
          "text": [
            "/tmp/ipython-input-744578063.py:242: RuntimeWarning: Channel names are not unique, found duplicates for: {'T8-P8'}. Applying running numbers for duplicates.\n",
            "  raw = mne.io.read_raw_edf(path, preload=True, verbose=False)\n"
          ]
        },
        {
          "output_type": "stream",
          "name": "stdout",
          "text": [
            "NOTE: pick_channels() is a legacy function. New code should use inst.pick(...).\n"
          ]
        },
        {
          "output_type": "stream",
          "name": "stderr",
          "text": [
            "/tmp/ipython-input-744578063.py:242: RuntimeWarning: Channel names are not unique, found duplicates for: {'T8-P8'}. Applying running numbers for duplicates.\n",
            "  raw = mne.io.read_raw_edf(path, preload=True, verbose=False)\n"
          ]
        },
        {
          "output_type": "stream",
          "name": "stdout",
          "text": [
            "NOTE: pick_channels() is a legacy function. New code should use inst.pick(...).\n"
          ]
        },
        {
          "output_type": "stream",
          "name": "stderr",
          "text": [
            "/tmp/ipython-input-744578063.py:242: RuntimeWarning: Channel names are not unique, found duplicates for: {'T8-P8'}. Applying running numbers for duplicates.\n",
            "  raw = mne.io.read_raw_edf(path, preload=True, verbose=False)\n"
          ]
        },
        {
          "output_type": "stream",
          "name": "stdout",
          "text": [
            "NOTE: pick_channels() is a legacy function. New code should use inst.pick(...).\n"
          ]
        },
        {
          "output_type": "stream",
          "name": "stderr",
          "text": [
            "/tmp/ipython-input-744578063.py:242: RuntimeWarning: Channel names are not unique, found duplicates for: {'T8-P8'}. Applying running numbers for duplicates.\n",
            "  raw = mne.io.read_raw_edf(path, preload=True, verbose=False)\n"
          ]
        },
        {
          "output_type": "stream",
          "name": "stdout",
          "text": [
            "NOTE: pick_channels() is a legacy function. New code should use inst.pick(...).\n"
          ]
        },
        {
          "output_type": "stream",
          "name": "stderr",
          "text": [
            "/tmp/ipython-input-744578063.py:242: RuntimeWarning: Channel names are not unique, found duplicates for: {'T8-P8'}. Applying running numbers for duplicates.\n",
            "  raw = mne.io.read_raw_edf(path, preload=True, verbose=False)\n"
          ]
        },
        {
          "output_type": "stream",
          "name": "stdout",
          "text": [
            "NOTE: pick_channels() is a legacy function. New code should use inst.pick(...).\n",
            "[chb11] EDFs:4 | with seizures in summary:0\n"
          ]
        },
        {
          "output_type": "stream",
          "name": "stderr",
          "text": [
            "/tmp/ipython-input-744578063.py:242: RuntimeWarning: Channel names are not unique, found duplicates for: {'T8-P8'}. Applying running numbers for duplicates.\n",
            "  raw = mne.io.read_raw_edf(path, preload=True, verbose=False)\n"
          ]
        },
        {
          "output_type": "stream",
          "name": "stdout",
          "text": [
            "NOTE: pick_channels() is a legacy function. New code should use inst.pick(...).\n"
          ]
        },
        {
          "output_type": "stream",
          "name": "stderr",
          "text": [
            "/tmp/ipython-input-744578063.py:242: RuntimeWarning: Channel names are not unique, found duplicates for: {'T8-P8', '-'}. Applying running numbers for duplicates.\n",
            "  raw = mne.io.read_raw_edf(path, preload=True, verbose=False)\n"
          ]
        },
        {
          "output_type": "stream",
          "name": "stdout",
          "text": [
            "NOTE: pick_channels() is a legacy function. New code should use inst.pick(...).\n"
          ]
        },
        {
          "output_type": "stream",
          "name": "stderr",
          "text": [
            "/tmp/ipython-input-744578063.py:242: RuntimeWarning: Channel names are not unique, found duplicates for: {'T8-P8', '-'}. Applying running numbers for duplicates.\n",
            "  raw = mne.io.read_raw_edf(path, preload=True, verbose=False)\n"
          ]
        },
        {
          "output_type": "stream",
          "name": "stdout",
          "text": [
            "NOTE: pick_channels() is a legacy function. New code should use inst.pick(...).\n"
          ]
        },
        {
          "output_type": "stream",
          "name": "stderr",
          "text": [
            "/tmp/ipython-input-744578063.py:242: RuntimeWarning: Channel names are not unique, found duplicates for: {'T8-P8', '-'}. Applying running numbers for duplicates.\n",
            "  raw = mne.io.read_raw_edf(path, preload=True, verbose=False)\n"
          ]
        },
        {
          "output_type": "stream",
          "name": "stdout",
          "text": [
            "NOTE: pick_channels() is a legacy function. New code should use inst.pick(...).\n",
            "[chb12] EDFs:14 | with seizures in summary:0\n"
          ]
        },
        {
          "output_type": "stream",
          "name": "stderr",
          "text": [
            "/tmp/ipython-input-744578063.py:242: RuntimeWarning: Channel names are not unique, found duplicates for: {'T8-P8', '-'}. Applying running numbers for duplicates.\n",
            "  raw = mne.io.read_raw_edf(path, preload=True, verbose=False)\n",
            "/tmp/ipython-input-744578063.py:242: RuntimeWarning: Scaling factor is not defined in following channels:\n",
            "--0, --1, --2, --3, --4\n",
            "  raw = mne.io.read_raw_edf(path, preload=True, verbose=False)\n"
          ]
        },
        {
          "output_type": "stream",
          "name": "stdout",
          "text": [
            "NOTE: pick_channels() is a legacy function. New code should use inst.pick(...).\n"
          ]
        },
        {
          "output_type": "stream",
          "name": "stderr",
          "text": [
            "/tmp/ipython-input-744578063.py:242: RuntimeWarning: Channel names are not unique, found duplicates for: {'T8-P8', '-'}. Applying running numbers for duplicates.\n",
            "  raw = mne.io.read_raw_edf(path, preload=True, verbose=False)\n",
            "/tmp/ipython-input-744578063.py:242: RuntimeWarning: Scaling factor is not defined in following channels:\n",
            "--0, --1, --2, --3, --4\n",
            "  raw = mne.io.read_raw_edf(path, preload=True, verbose=False)\n"
          ]
        },
        {
          "output_type": "stream",
          "name": "stdout",
          "text": [
            "NOTE: pick_channels() is a legacy function. New code should use inst.pick(...).\n"
          ]
        },
        {
          "output_type": "stream",
          "name": "stderr",
          "text": [
            "/tmp/ipython-input-744578063.py:242: RuntimeWarning: Channel names are not unique, found duplicates for: {'T8-P8', '-'}. Applying running numbers for duplicates.\n",
            "  raw = mne.io.read_raw_edf(path, preload=True, verbose=False)\n",
            "/tmp/ipython-input-744578063.py:242: RuntimeWarning: Scaling factor is not defined in following channels:\n",
            "--0, --1, --2, --3, --4\n",
            "  raw = mne.io.read_raw_edf(path, preload=True, verbose=False)\n"
          ]
        },
        {
          "output_type": "stream",
          "name": "stdout",
          "text": [
            "NOTE: pick_channels() is a legacy function. New code should use inst.pick(...).\n"
          ]
        },
        {
          "output_type": "stream",
          "name": "stderr",
          "text": [
            "/tmp/ipython-input-744578063.py:242: RuntimeWarning: Channel names are not unique, found duplicates for: {'T8-P8', '-'}. Applying running numbers for duplicates.\n",
            "  raw = mne.io.read_raw_edf(path, preload=True, verbose=False)\n",
            "/tmp/ipython-input-744578063.py:242: RuntimeWarning: Scaling factor is not defined in following channels:\n",
            "--0, --1, --2, --3, --4\n",
            "  raw = mne.io.read_raw_edf(path, preload=True, verbose=False)\n"
          ]
        },
        {
          "output_type": "stream",
          "name": "stdout",
          "text": [
            "NOTE: pick_channels() is a legacy function. New code should use inst.pick(...).\n"
          ]
        },
        {
          "output_type": "stream",
          "name": "stderr",
          "text": [
            "/tmp/ipython-input-744578063.py:242: RuntimeWarning: Channel names are not unique, found duplicates for: {'T8-P8', '-'}. Applying running numbers for duplicates.\n",
            "  raw = mne.io.read_raw_edf(path, preload=True, verbose=False)\n",
            "/tmp/ipython-input-744578063.py:242: RuntimeWarning: Scaling factor is not defined in following channels:\n",
            "--0, --1, --2, --3, --4\n",
            "  raw = mne.io.read_raw_edf(path, preload=True, verbose=False)\n"
          ]
        },
        {
          "output_type": "stream",
          "name": "stdout",
          "text": [
            "NOTE: pick_channels() is a legacy function. New code should use inst.pick(...).\n"
          ]
        },
        {
          "output_type": "stream",
          "name": "stderr",
          "text": [
            "/tmp/ipython-input-744578063.py:242: RuntimeWarning: Channel names are not unique, found duplicates for: {'T8-P8', '-'}. Applying running numbers for duplicates.\n",
            "  raw = mne.io.read_raw_edf(path, preload=True, verbose=False)\n",
            "/tmp/ipython-input-744578063.py:242: RuntimeWarning: Scaling factor is not defined in following channels:\n",
            "--0, --1, --2, --3, --4\n",
            "  raw = mne.io.read_raw_edf(path, preload=True, verbose=False)\n"
          ]
        },
        {
          "output_type": "stream",
          "name": "stdout",
          "text": [
            "NOTE: pick_channels() is a legacy function. New code should use inst.pick(...).\n"
          ]
        },
        {
          "output_type": "stream",
          "name": "stderr",
          "text": [
            "/tmp/ipython-input-744578063.py:242: RuntimeWarning: Channel names are not unique, found duplicates for: {'T8-P8', '-'}. Applying running numbers for duplicates.\n",
            "  raw = mne.io.read_raw_edf(path, preload=True, verbose=False)\n",
            "/tmp/ipython-input-744578063.py:242: RuntimeWarning: Scaling factor is not defined in following channels:\n",
            "--0, --1, --2, --3, --4\n",
            "  raw = mne.io.read_raw_edf(path, preload=True, verbose=False)\n"
          ]
        },
        {
          "output_type": "stream",
          "name": "stdout",
          "text": [
            "NOTE: pick_channels() is a legacy function. New code should use inst.pick(...).\n"
          ]
        },
        {
          "output_type": "stream",
          "name": "stderr",
          "text": [
            "/tmp/ipython-input-744578063.py:242: RuntimeWarning: Channel names are not unique, found duplicates for: {'-'}. Applying running numbers for duplicates.\n",
            "  raw = mne.io.read_raw_edf(path, preload=True, verbose=False)\n",
            "/tmp/ipython-input-744578063.py:242: RuntimeWarning: Scaling factor is not defined in following channels:\n",
            "--0, --1, --2, --3, --4\n",
            "  raw = mne.io.read_raw_edf(path, preload=True, verbose=False)\n"
          ]
        },
        {
          "output_type": "stream",
          "name": "stdout",
          "text": [
            "NOTE: pick_channels() is a legacy function. New code should use inst.pick(...).\n"
          ]
        },
        {
          "output_type": "stream",
          "name": "stderr",
          "text": [
            "/tmp/ipython-input-744578063.py:242: RuntimeWarning: Channel names are not unique, found duplicates for: {'-'}. Applying running numbers for duplicates.\n",
            "  raw = mne.io.read_raw_edf(path, preload=True, verbose=False)\n",
            "/tmp/ipython-input-744578063.py:242: RuntimeWarning: Scaling factor is not defined in following channels:\n",
            "--0, --1, --2, --3\n",
            "  raw = mne.io.read_raw_edf(path, preload=True, verbose=False)\n"
          ]
        },
        {
          "output_type": "stream",
          "name": "stdout",
          "text": [
            "NOTE: pick_channels() is a legacy function. New code should use inst.pick(...).\n"
          ]
        },
        {
          "output_type": "stream",
          "name": "stderr",
          "text": [
            "/tmp/ipython-input-744578063.py:242: RuntimeWarning: Channel names are not unique, found duplicates for: {'-'}. Applying running numbers for duplicates.\n",
            "  raw = mne.io.read_raw_edf(path, preload=True, verbose=False)\n",
            "/tmp/ipython-input-744578063.py:242: RuntimeWarning: Scaling factor is not defined in following channels:\n",
            "--0, --1, --2, --3\n",
            "  raw = mne.io.read_raw_edf(path, preload=True, verbose=False)\n"
          ]
        },
        {
          "output_type": "stream",
          "name": "stdout",
          "text": [
            "NOTE: pick_channels() is a legacy function. New code should use inst.pick(...).\n"
          ]
        },
        {
          "output_type": "stream",
          "name": "stderr",
          "text": [
            "/tmp/ipython-input-744578063.py:242: RuntimeWarning: Channel names are not unique, found duplicates for: {'T8-P8', '-'}. Applying running numbers for duplicates.\n",
            "  raw = mne.io.read_raw_edf(path, preload=True, verbose=False)\n",
            "/tmp/ipython-input-744578063.py:242: RuntimeWarning: Scaling factor is not defined in following channels:\n",
            "--0, --1, --2, --3, --4\n",
            "  raw = mne.io.read_raw_edf(path, preload=True, verbose=False)\n"
          ]
        },
        {
          "output_type": "stream",
          "name": "stdout",
          "text": [
            "NOTE: pick_channels() is a legacy function. New code should use inst.pick(...).\n"
          ]
        },
        {
          "output_type": "stream",
          "name": "stderr",
          "text": [
            "/tmp/ipython-input-744578063.py:242: RuntimeWarning: Channel names are not unique, found duplicates for: {'T8-P8', '-'}. Applying running numbers for duplicates.\n",
            "  raw = mne.io.read_raw_edf(path, preload=True, verbose=False)\n",
            "/tmp/ipython-input-744578063.py:242: RuntimeWarning: Scaling factor is not defined in following channels:\n",
            "--0, --1, --2, --3, --4\n",
            "  raw = mne.io.read_raw_edf(path, preload=True, verbose=False)\n"
          ]
        },
        {
          "output_type": "stream",
          "name": "stdout",
          "text": [
            "NOTE: pick_channels() is a legacy function. New code should use inst.pick(...).\n"
          ]
        },
        {
          "output_type": "stream",
          "name": "stderr",
          "text": [
            "/tmp/ipython-input-744578063.py:242: RuntimeWarning: Channel names are not unique, found duplicates for: {'T8-P8', '-'}. Applying running numbers for duplicates.\n",
            "  raw = mne.io.read_raw_edf(path, preload=True, verbose=False)\n",
            "/tmp/ipython-input-744578063.py:242: RuntimeWarning: Scaling factor is not defined in following channels:\n",
            "--0, --1, --2, --3, --4\n",
            "  raw = mne.io.read_raw_edf(path, preload=True, verbose=False)\n"
          ]
        },
        {
          "output_type": "stream",
          "name": "stdout",
          "text": [
            "NOTE: pick_channels() is a legacy function. New code should use inst.pick(...).\n"
          ]
        },
        {
          "output_type": "stream",
          "name": "stderr",
          "text": [
            "/tmp/ipython-input-744578063.py:242: RuntimeWarning: Channel names are not unique, found duplicates for: {'T8-P8', '-'}. Applying running numbers for duplicates.\n",
            "  raw = mne.io.read_raw_edf(path, preload=True, verbose=False)\n",
            "/tmp/ipython-input-744578063.py:242: RuntimeWarning: Scaling factor is not defined in following channels:\n",
            "--0, --1, --2, --3, --4\n",
            "  raw = mne.io.read_raw_edf(path, preload=True, verbose=False)\n"
          ]
        },
        {
          "output_type": "stream",
          "name": "stdout",
          "text": [
            "NOTE: pick_channels() is a legacy function. New code should use inst.pick(...).\n",
            "[chb13] EDFs:9 | with seizures in summary:0\n"
          ]
        },
        {
          "output_type": "stream",
          "name": "stderr",
          "text": [
            "/tmp/ipython-input-744578063.py:242: RuntimeWarning: Channel names are not unique, found duplicates for: {'T8-P8', '-'}. Applying running numbers for duplicates.\n",
            "  raw = mne.io.read_raw_edf(path, preload=True, verbose=False)\n",
            "/tmp/ipython-input-744578063.py:242: RuntimeWarning: Scaling factor is not defined in following channels:\n",
            "--0, --1, --2, --3, --4\n",
            "  raw = mne.io.read_raw_edf(path, preload=True, verbose=False)\n"
          ]
        },
        {
          "output_type": "stream",
          "name": "stdout",
          "text": [
            "NOTE: pick_channels() is a legacy function. New code should use inst.pick(...).\n"
          ]
        },
        {
          "output_type": "stream",
          "name": "stderr",
          "text": [
            "/tmp/ipython-input-744578063.py:242: RuntimeWarning: Channel names are not unique, found duplicates for: {'T8-P8', '-'}. Applying running numbers for duplicates.\n",
            "  raw = mne.io.read_raw_edf(path, preload=True, verbose=False)\n",
            "/tmp/ipython-input-744578063.py:242: RuntimeWarning: Scaling factor is not defined in following channels:\n",
            "--0, --1, --2, --3, --4\n",
            "  raw = mne.io.read_raw_edf(path, preload=True, verbose=False)\n"
          ]
        },
        {
          "output_type": "stream",
          "name": "stdout",
          "text": [
            "NOTE: pick_channels() is a legacy function. New code should use inst.pick(...).\n"
          ]
        },
        {
          "output_type": "stream",
          "name": "stderr",
          "text": [
            "/tmp/ipython-input-744578063.py:242: RuntimeWarning: Channel names are not unique, found duplicates for: {'T8-P8', '-'}. Applying running numbers for duplicates.\n",
            "  raw = mne.io.read_raw_edf(path, preload=True, verbose=False)\n",
            "/tmp/ipython-input-744578063.py:242: RuntimeWarning: Scaling factor is not defined in following channels:\n",
            "--0, --1, --2, --3, --4\n",
            "  raw = mne.io.read_raw_edf(path, preload=True, verbose=False)\n"
          ]
        },
        {
          "output_type": "stream",
          "name": "stdout",
          "text": [
            "NOTE: pick_channels() is a legacy function. New code should use inst.pick(...).\n"
          ]
        },
        {
          "output_type": "stream",
          "name": "stderr",
          "text": [
            "/tmp/ipython-input-744578063.py:242: RuntimeWarning: Channel names are not unique, found duplicates for: {'-'}. Applying running numbers for duplicates.\n",
            "  raw = mne.io.read_raw_edf(path, preload=True, verbose=False)\n",
            "/tmp/ipython-input-744578063.py:242: RuntimeWarning: Scaling factor is not defined in following channels:\n",
            "--0, --1, --2, --3\n",
            "  raw = mne.io.read_raw_edf(path, preload=True, verbose=False)\n"
          ]
        },
        {
          "output_type": "stream",
          "name": "stdout",
          "text": [
            "NOTE: pick_channels() is a legacy function. New code should use inst.pick(...).\n"
          ]
        },
        {
          "output_type": "stream",
          "name": "stderr",
          "text": [
            "/tmp/ipython-input-744578063.py:242: RuntimeWarning: Channel names are not unique, found duplicates for: {'T8-P8', '-'}. Applying running numbers for duplicates.\n",
            "  raw = mne.io.read_raw_edf(path, preload=True, verbose=False)\n",
            "/tmp/ipython-input-744578063.py:242: RuntimeWarning: Scaling factor is not defined in following channels:\n",
            "--0, --1, --2, --3, --4\n",
            "  raw = mne.io.read_raw_edf(path, preload=True, verbose=False)\n"
          ]
        },
        {
          "output_type": "stream",
          "name": "stdout",
          "text": [
            "NOTE: pick_channels() is a legacy function. New code should use inst.pick(...).\n"
          ]
        },
        {
          "output_type": "stream",
          "name": "stderr",
          "text": [
            "/tmp/ipython-input-744578063.py:242: RuntimeWarning: Channel names are not unique, found duplicates for: {'T8-P8', '-'}. Applying running numbers for duplicates.\n",
            "  raw = mne.io.read_raw_edf(path, preload=True, verbose=False)\n",
            "/tmp/ipython-input-744578063.py:242: RuntimeWarning: Scaling factor is not defined in following channels:\n",
            "--0, --1, --2, --3, --4\n",
            "  raw = mne.io.read_raw_edf(path, preload=True, verbose=False)\n"
          ]
        },
        {
          "output_type": "stream",
          "name": "stdout",
          "text": [
            "NOTE: pick_channels() is a legacy function. New code should use inst.pick(...).\n"
          ]
        },
        {
          "output_type": "stream",
          "name": "stderr",
          "text": [
            "/tmp/ipython-input-744578063.py:242: RuntimeWarning: Channel names are not unique, found duplicates for: {'T8-P8', '-'}. Applying running numbers for duplicates.\n",
            "  raw = mne.io.read_raw_edf(path, preload=True, verbose=False)\n",
            "/tmp/ipython-input-744578063.py:242: RuntimeWarning: Scaling factor is not defined in following channels:\n",
            "--0, --1, --2, --3, --4\n",
            "  raw = mne.io.read_raw_edf(path, preload=True, verbose=False)\n"
          ]
        },
        {
          "output_type": "stream",
          "name": "stdout",
          "text": [
            "NOTE: pick_channels() is a legacy function. New code should use inst.pick(...).\n"
          ]
        },
        {
          "output_type": "stream",
          "name": "stderr",
          "text": [
            "/tmp/ipython-input-744578063.py:242: RuntimeWarning: Channel names are not unique, found duplicates for: {'T8-P8', '-'}. Applying running numbers for duplicates.\n",
            "  raw = mne.io.read_raw_edf(path, preload=True, verbose=False)\n",
            "/tmp/ipython-input-744578063.py:242: RuntimeWarning: Scaling factor is not defined in following channels:\n",
            "--0, --1, --2, --3, --4\n",
            "  raw = mne.io.read_raw_edf(path, preload=True, verbose=False)\n"
          ]
        },
        {
          "output_type": "stream",
          "name": "stdout",
          "text": [
            "NOTE: pick_channels() is a legacy function. New code should use inst.pick(...).\n"
          ]
        },
        {
          "output_type": "stream",
          "name": "stderr",
          "text": [
            "/tmp/ipython-input-744578063.py:242: RuntimeWarning: Channel names are not unique, found duplicates for: {'T8-P8', '-'}. Applying running numbers for duplicates.\n",
            "  raw = mne.io.read_raw_edf(path, preload=True, verbose=False)\n",
            "/tmp/ipython-input-744578063.py:242: RuntimeWarning: Scaling factor is not defined in following channels:\n",
            "--0, --1, --2, --3, --4\n",
            "  raw = mne.io.read_raw_edf(path, preload=True, verbose=False)\n"
          ]
        },
        {
          "output_type": "stream",
          "name": "stdout",
          "text": [
            "NOTE: pick_channels() is a legacy function. New code should use inst.pick(...).\n",
            "[chb14] EDFs:8 | with seizures in summary:0\n"
          ]
        },
        {
          "output_type": "stream",
          "name": "stderr",
          "text": [
            "/tmp/ipython-input-744578063.py:242: RuntimeWarning: Channel names are not unique, found duplicates for: {'T8-P8', '-'}. Applying running numbers for duplicates.\n",
            "  raw = mne.io.read_raw_edf(path, preload=True, verbose=False)\n",
            "/tmp/ipython-input-744578063.py:242: RuntimeWarning: Scaling factor is not defined in following channels:\n",
            "--0, --1, --2, --3, --4\n",
            "  raw = mne.io.read_raw_edf(path, preload=True, verbose=False)\n"
          ]
        },
        {
          "output_type": "stream",
          "name": "stdout",
          "text": [
            "NOTE: pick_channels() is a legacy function. New code should use inst.pick(...).\n"
          ]
        },
        {
          "output_type": "stream",
          "name": "stderr",
          "text": [
            "/tmp/ipython-input-744578063.py:242: RuntimeWarning: Channel names are not unique, found duplicates for: {'T8-P8', '-'}. Applying running numbers for duplicates.\n",
            "  raw = mne.io.read_raw_edf(path, preload=True, verbose=False)\n",
            "/tmp/ipython-input-744578063.py:242: RuntimeWarning: Scaling factor is not defined in following channels:\n",
            "--0, --1, --2, --3, --4\n",
            "  raw = mne.io.read_raw_edf(path, preload=True, verbose=False)\n"
          ]
        },
        {
          "output_type": "stream",
          "name": "stdout",
          "text": [
            "NOTE: pick_channels() is a legacy function. New code should use inst.pick(...).\n"
          ]
        },
        {
          "output_type": "stream",
          "name": "stderr",
          "text": [
            "/tmp/ipython-input-744578063.py:242: RuntimeWarning: Channel names are not unique, found duplicates for: {'T8-P8', '-'}. Applying running numbers for duplicates.\n",
            "  raw = mne.io.read_raw_edf(path, preload=True, verbose=False)\n",
            "/tmp/ipython-input-744578063.py:242: RuntimeWarning: Scaling factor is not defined in following channels:\n",
            "--0, --1, --2, --3, --4\n",
            "  raw = mne.io.read_raw_edf(path, preload=True, verbose=False)\n"
          ]
        },
        {
          "output_type": "stream",
          "name": "stdout",
          "text": [
            "NOTE: pick_channels() is a legacy function. New code should use inst.pick(...).\n"
          ]
        },
        {
          "output_type": "stream",
          "name": "stderr",
          "text": [
            "/tmp/ipython-input-744578063.py:242: RuntimeWarning: Channel names are not unique, found duplicates for: {'T8-P8', '-'}. Applying running numbers for duplicates.\n",
            "  raw = mne.io.read_raw_edf(path, preload=True, verbose=False)\n",
            "/tmp/ipython-input-744578063.py:242: RuntimeWarning: Scaling factor is not defined in following channels:\n",
            "--0, --1, --2, --3, --4\n",
            "  raw = mne.io.read_raw_edf(path, preload=True, verbose=False)\n"
          ]
        },
        {
          "output_type": "stream",
          "name": "stdout",
          "text": [
            "NOTE: pick_channels() is a legacy function. New code should use inst.pick(...).\n"
          ]
        },
        {
          "output_type": "stream",
          "name": "stderr",
          "text": [
            "/tmp/ipython-input-744578063.py:242: RuntimeWarning: Channel names are not unique, found duplicates for: {'T8-P8', '-'}. Applying running numbers for duplicates.\n",
            "  raw = mne.io.read_raw_edf(path, preload=True, verbose=False)\n",
            "/tmp/ipython-input-744578063.py:242: RuntimeWarning: Scaling factor is not defined in following channels:\n",
            "--0, --1, --2, --3, --4\n",
            "  raw = mne.io.read_raw_edf(path, preload=True, verbose=False)\n"
          ]
        },
        {
          "output_type": "stream",
          "name": "stdout",
          "text": [
            "NOTE: pick_channels() is a legacy function. New code should use inst.pick(...).\n"
          ]
        },
        {
          "output_type": "stream",
          "name": "stderr",
          "text": [
            "/tmp/ipython-input-744578063.py:242: RuntimeWarning: Channel names are not unique, found duplicates for: {'T8-P8', '-'}. Applying running numbers for duplicates.\n",
            "  raw = mne.io.read_raw_edf(path, preload=True, verbose=False)\n",
            "/tmp/ipython-input-744578063.py:242: RuntimeWarning: Scaling factor is not defined in following channels:\n",
            "--0, --1, --2, --3, --4\n",
            "  raw = mne.io.read_raw_edf(path, preload=True, verbose=False)\n"
          ]
        },
        {
          "output_type": "stream",
          "name": "stdout",
          "text": [
            "NOTE: pick_channels() is a legacy function. New code should use inst.pick(...).\n"
          ]
        },
        {
          "output_type": "stream",
          "name": "stderr",
          "text": [
            "/tmp/ipython-input-744578063.py:242: RuntimeWarning: Channel names are not unique, found duplicates for: {'T8-P8', '-'}. Applying running numbers for duplicates.\n",
            "  raw = mne.io.read_raw_edf(path, preload=True, verbose=False)\n",
            "/tmp/ipython-input-744578063.py:242: RuntimeWarning: Scaling factor is not defined in following channels:\n",
            "--0, --1, --2, --3, --4\n",
            "  raw = mne.io.read_raw_edf(path, preload=True, verbose=False)\n"
          ]
        },
        {
          "output_type": "stream",
          "name": "stdout",
          "text": [
            "NOTE: pick_channels() is a legacy function. New code should use inst.pick(...).\n"
          ]
        },
        {
          "output_type": "stream",
          "name": "stderr",
          "text": [
            "/tmp/ipython-input-744578063.py:242: RuntimeWarning: Channel names are not unique, found duplicates for: {'T8-P8', '-'}. Applying running numbers for duplicates.\n",
            "  raw = mne.io.read_raw_edf(path, preload=True, verbose=False)\n",
            "/tmp/ipython-input-744578063.py:242: RuntimeWarning: Scaling factor is not defined in following channels:\n",
            "--0, --1, --2, --3, --4\n",
            "  raw = mne.io.read_raw_edf(path, preload=True, verbose=False)\n"
          ]
        },
        {
          "output_type": "stream",
          "name": "stdout",
          "text": [
            "NOTE: pick_channels() is a legacy function. New code should use inst.pick(...).\n",
            "[chb15] EDFs:15 | with seizures in summary:0\n"
          ]
        },
        {
          "output_type": "stream",
          "name": "stderr",
          "text": [
            "/tmp/ipython-input-744578063.py:242: RuntimeWarning: Channel names are not unique, found duplicates for: {'-'}. Applying running numbers for duplicates.\n",
            "  raw = mne.io.read_raw_edf(path, preload=True, verbose=False)\n",
            "/tmp/ipython-input-744578063.py:242: RuntimeWarning: Scaling factor is not defined in following channels:\n",
            "--0, --1, --2, --3, --4\n",
            "  raw = mne.io.read_raw_edf(path, preload=True, verbose=False)\n"
          ]
        },
        {
          "output_type": "stream",
          "name": "stdout",
          "text": [
            "NOTE: pick_channels() is a legacy function. New code should use inst.pick(...).\n"
          ]
        },
        {
          "output_type": "stream",
          "name": "stderr",
          "text": [
            "/tmp/ipython-input-744578063.py:242: RuntimeWarning: Channel names are not unique, found duplicates for: {'T8-P8', '-'}. Applying running numbers for duplicates.\n",
            "  raw = mne.io.read_raw_edf(path, preload=True, verbose=False)\n",
            "/tmp/ipython-input-744578063.py:242: RuntimeWarning: Scaling factor is not defined in following channels:\n",
            "--0, --1, --2, --3, --4, --5\n",
            "  raw = mne.io.read_raw_edf(path, preload=True, verbose=False)\n"
          ]
        },
        {
          "output_type": "stream",
          "name": "stdout",
          "text": [
            "NOTE: pick_channels() is a legacy function. New code should use inst.pick(...).\n"
          ]
        },
        {
          "output_type": "stream",
          "name": "stderr",
          "text": [
            "/tmp/ipython-input-744578063.py:242: RuntimeWarning: Channel names are not unique, found duplicates for: {'T8-P8', '-'}. Applying running numbers for duplicates.\n",
            "  raw = mne.io.read_raw_edf(path, preload=True, verbose=False)\n",
            "/tmp/ipython-input-744578063.py:242: RuntimeWarning: Scaling factor is not defined in following channels:\n",
            "--0, --1, --2, --3, --4, --5\n",
            "  raw = mne.io.read_raw_edf(path, preload=True, verbose=False)\n"
          ]
        },
        {
          "output_type": "stream",
          "name": "stdout",
          "text": [
            "NOTE: pick_channels() is a legacy function. New code should use inst.pick(...).\n"
          ]
        },
        {
          "output_type": "stream",
          "name": "stderr",
          "text": [
            "/tmp/ipython-input-744578063.py:242: RuntimeWarning: Channel names are not unique, found duplicates for: {'T8-P8', '-'}. Applying running numbers for duplicates.\n",
            "  raw = mne.io.read_raw_edf(path, preload=True, verbose=False)\n",
            "/tmp/ipython-input-744578063.py:242: RuntimeWarning: Scaling factor is not defined in following channels:\n",
            "--0, --1, --2, --3, --4, --5\n",
            "  raw = mne.io.read_raw_edf(path, preload=True, verbose=False)\n"
          ]
        },
        {
          "output_type": "stream",
          "name": "stdout",
          "text": [
            "NOTE: pick_channels() is a legacy function. New code should use inst.pick(...).\n"
          ]
        },
        {
          "output_type": "stream",
          "name": "stderr",
          "text": [
            "/tmp/ipython-input-744578063.py:242: RuntimeWarning: Channel names are not unique, found duplicates for: {'T8-P8', '-'}. Applying running numbers for duplicates.\n",
            "  raw = mne.io.read_raw_edf(path, preload=True, verbose=False)\n",
            "/tmp/ipython-input-744578063.py:242: RuntimeWarning: Scaling factor is not defined in following channels:\n",
            "--0, --1, --2, --3, --4, --5\n",
            "  raw = mne.io.read_raw_edf(path, preload=True, verbose=False)\n"
          ]
        },
        {
          "output_type": "stream",
          "name": "stdout",
          "text": [
            "NOTE: pick_channels() is a legacy function. New code should use inst.pick(...).\n"
          ]
        },
        {
          "output_type": "stream",
          "name": "stderr",
          "text": [
            "/tmp/ipython-input-744578063.py:242: RuntimeWarning: Channel names are not unique, found duplicates for: {'T8-P8', '-'}. Applying running numbers for duplicates.\n",
            "  raw = mne.io.read_raw_edf(path, preload=True, verbose=False)\n",
            "/tmp/ipython-input-744578063.py:242: RuntimeWarning: Scaling factor is not defined in following channels:\n",
            "--0, --1, --2, --3, --4, --5\n",
            "  raw = mne.io.read_raw_edf(path, preload=True, verbose=False)\n"
          ]
        },
        {
          "output_type": "stream",
          "name": "stdout",
          "text": [
            "NOTE: pick_channels() is a legacy function. New code should use inst.pick(...).\n"
          ]
        },
        {
          "output_type": "stream",
          "name": "stderr",
          "text": [
            "/tmp/ipython-input-744578063.py:242: RuntimeWarning: Channel names are not unique, found duplicates for: {'T8-P8', '-'}. Applying running numbers for duplicates.\n",
            "  raw = mne.io.read_raw_edf(path, preload=True, verbose=False)\n",
            "/tmp/ipython-input-744578063.py:242: RuntimeWarning: Scaling factor is not defined in following channels:\n",
            "--0, --1, --2, --3, --4, --5\n",
            "  raw = mne.io.read_raw_edf(path, preload=True, verbose=False)\n"
          ]
        },
        {
          "output_type": "stream",
          "name": "stdout",
          "text": [
            "NOTE: pick_channels() is a legacy function. New code should use inst.pick(...).\n"
          ]
        },
        {
          "output_type": "stream",
          "name": "stderr",
          "text": [
            "/tmp/ipython-input-744578063.py:242: RuntimeWarning: Channel names are not unique, found duplicates for: {'T8-P8', '-'}. Applying running numbers for duplicates.\n",
            "  raw = mne.io.read_raw_edf(path, preload=True, verbose=False)\n",
            "/tmp/ipython-input-744578063.py:242: RuntimeWarning: Scaling factor is not defined in following channels:\n",
            "--0, --1, --2, --3, --4, --5\n",
            "  raw = mne.io.read_raw_edf(path, preload=True, verbose=False)\n"
          ]
        },
        {
          "output_type": "stream",
          "name": "stdout",
          "text": [
            "NOTE: pick_channels() is a legacy function. New code should use inst.pick(...).\n"
          ]
        },
        {
          "output_type": "stream",
          "name": "stderr",
          "text": [
            "/tmp/ipython-input-744578063.py:242: RuntimeWarning: Channel names are not unique, found duplicates for: {'T8-P8', '-'}. Applying running numbers for duplicates.\n",
            "  raw = mne.io.read_raw_edf(path, preload=True, verbose=False)\n",
            "/tmp/ipython-input-744578063.py:242: RuntimeWarning: Scaling factor is not defined in following channels:\n",
            "--0, --1, --2, --3, --4, --5\n",
            "  raw = mne.io.read_raw_edf(path, preload=True, verbose=False)\n"
          ]
        },
        {
          "output_type": "stream",
          "name": "stdout",
          "text": [
            "NOTE: pick_channels() is a legacy function. New code should use inst.pick(...).\n"
          ]
        },
        {
          "output_type": "stream",
          "name": "stderr",
          "text": [
            "/tmp/ipython-input-744578063.py:242: RuntimeWarning: Channel names are not unique, found duplicates for: {'T8-P8', '-'}. Applying running numbers for duplicates.\n",
            "  raw = mne.io.read_raw_edf(path, preload=True, verbose=False)\n",
            "/tmp/ipython-input-744578063.py:242: RuntimeWarning: Scaling factor is not defined in following channels:\n",
            "--0, --1, --2, --3, --4, --5\n",
            "  raw = mne.io.read_raw_edf(path, preload=True, verbose=False)\n"
          ]
        },
        {
          "output_type": "stream",
          "name": "stdout",
          "text": [
            "NOTE: pick_channels() is a legacy function. New code should use inst.pick(...).\n"
          ]
        },
        {
          "output_type": "stream",
          "name": "stderr",
          "text": [
            "/tmp/ipython-input-744578063.py:242: RuntimeWarning: Channel names are not unique, found duplicates for: {'T8-P8', '-'}. Applying running numbers for duplicates.\n",
            "  raw = mne.io.read_raw_edf(path, preload=True, verbose=False)\n",
            "/tmp/ipython-input-744578063.py:242: RuntimeWarning: Scaling factor is not defined in following channels:\n",
            "--0, --1, --2, --3, --4, --5\n",
            "  raw = mne.io.read_raw_edf(path, preload=True, verbose=False)\n"
          ]
        },
        {
          "output_type": "stream",
          "name": "stdout",
          "text": [
            "NOTE: pick_channels() is a legacy function. New code should use inst.pick(...).\n"
          ]
        },
        {
          "output_type": "stream",
          "name": "stderr",
          "text": [
            "/tmp/ipython-input-744578063.py:242: RuntimeWarning: Channel names are not unique, found duplicates for: {'T8-P8', '-'}. Applying running numbers for duplicates.\n",
            "  raw = mne.io.read_raw_edf(path, preload=True, verbose=False)\n",
            "/tmp/ipython-input-744578063.py:242: RuntimeWarning: Scaling factor is not defined in following channels:\n",
            "--0, --1, --2, --3, --4, --5\n",
            "  raw = mne.io.read_raw_edf(path, preload=True, verbose=False)\n"
          ]
        },
        {
          "output_type": "stream",
          "name": "stdout",
          "text": [
            "NOTE: pick_channels() is a legacy function. New code should use inst.pick(...).\n"
          ]
        },
        {
          "output_type": "stream",
          "name": "stderr",
          "text": [
            "/tmp/ipython-input-744578063.py:242: RuntimeWarning: Channel names are not unique, found duplicates for: {'T8-P8', '-'}. Applying running numbers for duplicates.\n",
            "  raw = mne.io.read_raw_edf(path, preload=True, verbose=False)\n",
            "/tmp/ipython-input-744578063.py:242: RuntimeWarning: Scaling factor is not defined in following channels:\n",
            "--0, --1, --2, --3, --4, --5\n",
            "  raw = mne.io.read_raw_edf(path, preload=True, verbose=False)\n"
          ]
        },
        {
          "output_type": "stream",
          "name": "stdout",
          "text": [
            "NOTE: pick_channels() is a legacy function. New code should use inst.pick(...).\n"
          ]
        },
        {
          "output_type": "stream",
          "name": "stderr",
          "text": [
            "/tmp/ipython-input-744578063.py:242: RuntimeWarning: Channel names are not unique, found duplicates for: {'T8-P8', '-'}. Applying running numbers for duplicates.\n",
            "  raw = mne.io.read_raw_edf(path, preload=True, verbose=False)\n",
            "/tmp/ipython-input-744578063.py:242: RuntimeWarning: Scaling factor is not defined in following channels:\n",
            "--0, --1, --2, --3, --4, --5\n",
            "  raw = mne.io.read_raw_edf(path, preload=True, verbose=False)\n"
          ]
        },
        {
          "output_type": "stream",
          "name": "stdout",
          "text": [
            "NOTE: pick_channels() is a legacy function. New code should use inst.pick(...).\n"
          ]
        },
        {
          "output_type": "stream",
          "name": "stderr",
          "text": [
            "/tmp/ipython-input-744578063.py:242: RuntimeWarning: Channel names are not unique, found duplicates for: {'T8-P8', '-'}. Applying running numbers for duplicates.\n",
            "  raw = mne.io.read_raw_edf(path, preload=True, verbose=False)\n",
            "/tmp/ipython-input-744578063.py:242: RuntimeWarning: Scaling factor is not defined in following channels:\n",
            "--0, --1, --2, --3, --4, --5\n",
            "  raw = mne.io.read_raw_edf(path, preload=True, verbose=False)\n"
          ]
        },
        {
          "output_type": "stream",
          "name": "stdout",
          "text": [
            "NOTE: pick_channels() is a legacy function. New code should use inst.pick(...).\n",
            "[chb16] EDFs:7 | with seizures in summary:0\n"
          ]
        },
        {
          "output_type": "stream",
          "name": "stderr",
          "text": [
            "/tmp/ipython-input-744578063.py:242: RuntimeWarning: Channel names are not unique, found duplicates for: {'T8-P8', '-'}. Applying running numbers for duplicates.\n",
            "  raw = mne.io.read_raw_edf(path, preload=True, verbose=False)\n",
            "/tmp/ipython-input-744578063.py:242: RuntimeWarning: Scaling factor is not defined in following channels:\n",
            "--0, --1, --2, --3, --4\n",
            "  raw = mne.io.read_raw_edf(path, preload=True, verbose=False)\n"
          ]
        },
        {
          "output_type": "stream",
          "name": "stdout",
          "text": [
            "NOTE: pick_channels() is a legacy function. New code should use inst.pick(...).\n"
          ]
        },
        {
          "output_type": "stream",
          "name": "stderr",
          "text": [
            "/tmp/ipython-input-744578063.py:242: RuntimeWarning: Channel names are not unique, found duplicates for: {'T8-P8', '-'}. Applying running numbers for duplicates.\n",
            "  raw = mne.io.read_raw_edf(path, preload=True, verbose=False)\n",
            "/tmp/ipython-input-744578063.py:242: RuntimeWarning: Scaling factor is not defined in following channels:\n",
            "--0, --1, --2, --3, --4\n",
            "  raw = mne.io.read_raw_edf(path, preload=True, verbose=False)\n"
          ]
        },
        {
          "output_type": "stream",
          "name": "stdout",
          "text": [
            "NOTE: pick_channels() is a legacy function. New code should use inst.pick(...).\n"
          ]
        },
        {
          "output_type": "stream",
          "name": "stderr",
          "text": [
            "/tmp/ipython-input-744578063.py:242: RuntimeWarning: Channel names are not unique, found duplicates for: {'T8-P8', '-'}. Applying running numbers for duplicates.\n",
            "  raw = mne.io.read_raw_edf(path, preload=True, verbose=False)\n",
            "/tmp/ipython-input-744578063.py:242: RuntimeWarning: Scaling factor is not defined in following channels:\n",
            "--0, --1, --2, --3, --4\n",
            "  raw = mne.io.read_raw_edf(path, preload=True, verbose=False)\n"
          ]
        },
        {
          "output_type": "stream",
          "name": "stdout",
          "text": [
            "NOTE: pick_channels() is a legacy function. New code should use inst.pick(...).\n"
          ]
        },
        {
          "output_type": "stream",
          "name": "stderr",
          "text": [
            "/tmp/ipython-input-744578063.py:242: RuntimeWarning: Channel names are not unique, found duplicates for: {'T8-P8', '-'}. Applying running numbers for duplicates.\n",
            "  raw = mne.io.read_raw_edf(path, preload=True, verbose=False)\n",
            "/tmp/ipython-input-744578063.py:242: RuntimeWarning: Scaling factor is not defined in following channels:\n",
            "--0, --1, --2, --3, --4\n",
            "  raw = mne.io.read_raw_edf(path, preload=True, verbose=False)\n"
          ]
        },
        {
          "output_type": "stream",
          "name": "stdout",
          "text": [
            "NOTE: pick_channels() is a legacy function. New code should use inst.pick(...).\n"
          ]
        },
        {
          "output_type": "stream",
          "name": "stderr",
          "text": [
            "/tmp/ipython-input-744578063.py:242: RuntimeWarning: Channel names are not unique, found duplicates for: {'T8-P8', '-'}. Applying running numbers for duplicates.\n",
            "  raw = mne.io.read_raw_edf(path, preload=True, verbose=False)\n",
            "/tmp/ipython-input-744578063.py:242: RuntimeWarning: Scaling factor is not defined in following channels:\n",
            "--0, --1, --2, --3, --4\n",
            "  raw = mne.io.read_raw_edf(path, preload=True, verbose=False)\n"
          ]
        },
        {
          "output_type": "stream",
          "name": "stdout",
          "text": [
            "NOTE: pick_channels() is a legacy function. New code should use inst.pick(...).\n"
          ]
        },
        {
          "output_type": "stream",
          "name": "stderr",
          "text": [
            "/tmp/ipython-input-744578063.py:242: RuntimeWarning: Channel names are not unique, found duplicates for: {'T8-P8', '-'}. Applying running numbers for duplicates.\n",
            "  raw = mne.io.read_raw_edf(path, preload=True, verbose=False)\n",
            "/tmp/ipython-input-744578063.py:242: RuntimeWarning: Scaling factor is not defined in following channels:\n",
            "--0, --1, --2, --3, --4\n",
            "  raw = mne.io.read_raw_edf(path, preload=True, verbose=False)\n"
          ]
        },
        {
          "output_type": "stream",
          "name": "stdout",
          "text": [
            "NOTE: pick_channels() is a legacy function. New code should use inst.pick(...).\n"
          ]
        },
        {
          "output_type": "stream",
          "name": "stderr",
          "text": [
            "/tmp/ipython-input-744578063.py:242: RuntimeWarning: Channel names are not unique, found duplicates for: {'-'}. Applying running numbers for duplicates.\n",
            "  raw = mne.io.read_raw_edf(path, preload=True, verbose=False)\n",
            "/tmp/ipython-input-744578063.py:242: RuntimeWarning: Scaling factor is not defined in following channels:\n",
            "--0, --1, --2, --3\n",
            "  raw = mne.io.read_raw_edf(path, preload=True, verbose=False)\n"
          ]
        },
        {
          "output_type": "stream",
          "name": "stdout",
          "text": [
            "NOTE: pick_channels() is a legacy function. New code should use inst.pick(...).\n",
            "[chb17] EDFs:4 | with seizures in summary:0\n"
          ]
        },
        {
          "output_type": "stream",
          "name": "stderr",
          "text": [
            "/tmp/ipython-input-744578063.py:242: RuntimeWarning: Channel names are not unique, found duplicates for: {'T8-P8', '-'}. Applying running numbers for duplicates.\n",
            "  raw = mne.io.read_raw_edf(path, preload=True, verbose=False)\n",
            "/tmp/ipython-input-744578063.py:242: RuntimeWarning: Scaling factor is not defined in following channels:\n",
            "--0, --1, --2, --3, --4\n",
            "  raw = mne.io.read_raw_edf(path, preload=True, verbose=False)\n"
          ]
        },
        {
          "output_type": "stream",
          "name": "stdout",
          "text": [
            "NOTE: pick_channels() is a legacy function. New code should use inst.pick(...).\n"
          ]
        },
        {
          "output_type": "stream",
          "name": "stderr",
          "text": [
            "/tmp/ipython-input-744578063.py:242: RuntimeWarning: Channel names are not unique, found duplicates for: {'T8-P8', '-'}. Applying running numbers for duplicates.\n",
            "  raw = mne.io.read_raw_edf(path, preload=True, verbose=False)\n",
            "/tmp/ipython-input-744578063.py:242: RuntimeWarning: Scaling factor is not defined in following channels:\n",
            "--0, --1, --2, --3, --4\n",
            "  raw = mne.io.read_raw_edf(path, preload=True, verbose=False)\n"
          ]
        },
        {
          "output_type": "stream",
          "name": "stdout",
          "text": [
            "NOTE: pick_channels() is a legacy function. New code should use inst.pick(...).\n"
          ]
        },
        {
          "output_type": "stream",
          "name": "stderr",
          "text": [
            "/tmp/ipython-input-744578063.py:242: RuntimeWarning: Channel names are not unique, found duplicates for: {'T8-P8', '-'}. Applying running numbers for duplicates.\n",
            "  raw = mne.io.read_raw_edf(path, preload=True, verbose=False)\n",
            "/tmp/ipython-input-744578063.py:242: RuntimeWarning: Scaling factor is not defined in following channels:\n",
            "--0, --1, --2, --3, --4\n",
            "  raw = mne.io.read_raw_edf(path, preload=True, verbose=False)\n"
          ]
        },
        {
          "output_type": "stream",
          "name": "stdout",
          "text": [
            "NOTE: pick_channels() is a legacy function. New code should use inst.pick(...).\n"
          ]
        },
        {
          "output_type": "stream",
          "name": "stderr",
          "text": [
            "/tmp/ipython-input-744578063.py:242: RuntimeWarning: Channel names are not unique, found duplicates for: {'T8-P8', '-'}. Applying running numbers for duplicates.\n",
            "  raw = mne.io.read_raw_edf(path, preload=True, verbose=False)\n",
            "/tmp/ipython-input-744578063.py:242: RuntimeWarning: Scaling factor is not defined in following channels:\n",
            "--0, --1, --2, --3, --4\n",
            "  raw = mne.io.read_raw_edf(path, preload=True, verbose=False)\n"
          ]
        },
        {
          "output_type": "stream",
          "name": "stdout",
          "text": [
            "NOTE: pick_channels() is a legacy function. New code should use inst.pick(...).\n",
            "[chb18] EDFs:7 | with seizures in summary:0\n"
          ]
        },
        {
          "output_type": "stream",
          "name": "stderr",
          "text": [
            "/tmp/ipython-input-744578063.py:242: RuntimeWarning: Channel names are not unique, found duplicates for: {'-'}. Applying running numbers for duplicates.\n",
            "  raw = mne.io.read_raw_edf(path, preload=True, verbose=False)\n",
            "/tmp/ipython-input-744578063.py:242: RuntimeWarning: Scaling factor is not defined in following channels:\n",
            "--0, --1, --2, --3\n",
            "  raw = mne.io.read_raw_edf(path, preload=True, verbose=False)\n"
          ]
        },
        {
          "output_type": "stream",
          "name": "stdout",
          "text": [
            "NOTE: pick_channels() is a legacy function. New code should use inst.pick(...).\n"
          ]
        },
        {
          "output_type": "stream",
          "name": "stderr",
          "text": [
            "/tmp/ipython-input-744578063.py:242: RuntimeWarning: Channel names are not unique, found duplicates for: {'.', 'T8-P8'}. Applying running numbers for duplicates.\n",
            "  raw = mne.io.read_raw_edf(path, preload=True, verbose=False)\n"
          ]
        },
        {
          "output_type": "stream",
          "name": "stdout",
          "text": [
            "NOTE: pick_channels() is a legacy function. New code should use inst.pick(...).\n"
          ]
        },
        {
          "output_type": "stream",
          "name": "stderr",
          "text": [
            "/tmp/ipython-input-744578063.py:242: RuntimeWarning: Channel names are not unique, found duplicates for: {'.', 'T8-P8'}. Applying running numbers for duplicates.\n",
            "  raw = mne.io.read_raw_edf(path, preload=True, verbose=False)\n"
          ]
        },
        {
          "output_type": "stream",
          "name": "stdout",
          "text": [
            "NOTE: pick_channels() is a legacy function. New code should use inst.pick(...).\n"
          ]
        },
        {
          "output_type": "stream",
          "name": "stderr",
          "text": [
            "/tmp/ipython-input-744578063.py:242: RuntimeWarning: Channel names are not unique, found duplicates for: {'.', 'T8-P8'}. Applying running numbers for duplicates.\n",
            "  raw = mne.io.read_raw_edf(path, preload=True, verbose=False)\n"
          ]
        },
        {
          "output_type": "stream",
          "name": "stdout",
          "text": [
            "NOTE: pick_channels() is a legacy function. New code should use inst.pick(...).\n"
          ]
        },
        {
          "output_type": "stream",
          "name": "stderr",
          "text": [
            "/tmp/ipython-input-744578063.py:242: RuntimeWarning: Channel names are not unique, found duplicates for: {'.', 'T8-P8'}. Applying running numbers for duplicates.\n",
            "  raw = mne.io.read_raw_edf(path, preload=True, verbose=False)\n"
          ]
        },
        {
          "output_type": "stream",
          "name": "stdout",
          "text": [
            "NOTE: pick_channels() is a legacy function. New code should use inst.pick(...).\n"
          ]
        },
        {
          "output_type": "stream",
          "name": "stderr",
          "text": [
            "/tmp/ipython-input-744578063.py:242: RuntimeWarning: Channel names are not unique, found duplicates for: {'.', 'T8-P8'}. Applying running numbers for duplicates.\n",
            "  raw = mne.io.read_raw_edf(path, preload=True, verbose=False)\n"
          ]
        },
        {
          "output_type": "stream",
          "name": "stdout",
          "text": [
            "NOTE: pick_channels() is a legacy function. New code should use inst.pick(...).\n"
          ]
        },
        {
          "output_type": "stream",
          "name": "stderr",
          "text": [
            "/tmp/ipython-input-744578063.py:242: RuntimeWarning: Channel names are not unique, found duplicates for: {'.', 'T8-P8'}. Applying running numbers for duplicates.\n",
            "  raw = mne.io.read_raw_edf(path, preload=True, verbose=False)\n"
          ]
        },
        {
          "output_type": "stream",
          "name": "stdout",
          "text": [
            "NOTE: pick_channels() is a legacy function. New code should use inst.pick(...).\n",
            "[chb19] EDFs:4 | with seizures in summary:0\n"
          ]
        },
        {
          "output_type": "stream",
          "name": "stderr",
          "text": [
            "/tmp/ipython-input-744578063.py:242: RuntimeWarning: Channel names are not unique, found duplicates for: {'-'}. Applying running numbers for duplicates.\n",
            "  raw = mne.io.read_raw_edf(path, preload=True, verbose=False)\n",
            "/tmp/ipython-input-744578063.py:242: RuntimeWarning: Scaling factor is not defined in following channels:\n",
            "--0, --1, --2, --3\n",
            "  raw = mne.io.read_raw_edf(path, preload=True, verbose=False)\n"
          ]
        },
        {
          "output_type": "stream",
          "name": "stdout",
          "text": [
            "NOTE: pick_channels() is a legacy function. New code should use inst.pick(...).\n"
          ]
        },
        {
          "output_type": "stream",
          "name": "stderr",
          "text": [
            "/tmp/ipython-input-744578063.py:242: RuntimeWarning: Channel names are not unique, found duplicates for: {'T8-P8', '-'}. Applying running numbers for duplicates.\n",
            "  raw = mne.io.read_raw_edf(path, preload=True, verbose=False)\n",
            "/tmp/ipython-input-744578063.py:242: RuntimeWarning: Scaling factor is not defined in following channels:\n",
            "--0, --1, --2, --3, --4\n",
            "  raw = mne.io.read_raw_edf(path, preload=True, verbose=False)\n"
          ]
        },
        {
          "output_type": "stream",
          "name": "stdout",
          "text": [
            "NOTE: pick_channels() is a legacy function. New code should use inst.pick(...).\n"
          ]
        },
        {
          "output_type": "stream",
          "name": "stderr",
          "text": [
            "/tmp/ipython-input-744578063.py:242: RuntimeWarning: Channel names are not unique, found duplicates for: {'T8-P8', '-'}. Applying running numbers for duplicates.\n",
            "  raw = mne.io.read_raw_edf(path, preload=True, verbose=False)\n",
            "/tmp/ipython-input-744578063.py:242: RuntimeWarning: Scaling factor is not defined in following channels:\n",
            "--0, --1, --2, --3, --4\n",
            "  raw = mne.io.read_raw_edf(path, preload=True, verbose=False)\n"
          ]
        },
        {
          "output_type": "stream",
          "name": "stdout",
          "text": [
            "NOTE: pick_channels() is a legacy function. New code should use inst.pick(...).\n"
          ]
        },
        {
          "output_type": "stream",
          "name": "stderr",
          "text": [
            "/tmp/ipython-input-744578063.py:242: RuntimeWarning: Channel names are not unique, found duplicates for: {'T8-P8', '-'}. Applying running numbers for duplicates.\n",
            "  raw = mne.io.read_raw_edf(path, preload=True, verbose=False)\n",
            "/tmp/ipython-input-744578063.py:242: RuntimeWarning: Scaling factor is not defined in following channels:\n",
            "--0, --1, --2, --3, --4\n",
            "  raw = mne.io.read_raw_edf(path, preload=True, verbose=False)\n"
          ]
        },
        {
          "output_type": "stream",
          "name": "stdout",
          "text": [
            "NOTE: pick_channels() is a legacy function. New code should use inst.pick(...).\n",
            "[chb20] EDFs:7 | with seizures in summary:0\n"
          ]
        },
        {
          "output_type": "stream",
          "name": "stderr",
          "text": [
            "/tmp/ipython-input-744578063.py:242: RuntimeWarning: Channel names are not unique, found duplicates for: {'.', 'T8-P8'}. Applying running numbers for duplicates.\n",
            "  raw = mne.io.read_raw_edf(path, preload=True, verbose=False)\n"
          ]
        },
        {
          "output_type": "stream",
          "name": "stdout",
          "text": [
            "NOTE: pick_channels() is a legacy function. New code should use inst.pick(...).\n"
          ]
        },
        {
          "output_type": "stream",
          "name": "stderr",
          "text": [
            "/tmp/ipython-input-744578063.py:242: RuntimeWarning: Channel names are not unique, found duplicates for: {'.', 'T8-P8'}. Applying running numbers for duplicates.\n",
            "  raw = mne.io.read_raw_edf(path, preload=True, verbose=False)\n"
          ]
        },
        {
          "output_type": "stream",
          "name": "stdout",
          "text": [
            "NOTE: pick_channels() is a legacy function. New code should use inst.pick(...).\n"
          ]
        },
        {
          "output_type": "stream",
          "name": "stderr",
          "text": [
            "/tmp/ipython-input-744578063.py:242: RuntimeWarning: Channel names are not unique, found duplicates for: {'.', 'T8-P8'}. Applying running numbers for duplicates.\n",
            "  raw = mne.io.read_raw_edf(path, preload=True, verbose=False)\n"
          ]
        },
        {
          "output_type": "stream",
          "name": "stdout",
          "text": [
            "NOTE: pick_channels() is a legacy function. New code should use inst.pick(...).\n"
          ]
        },
        {
          "output_type": "stream",
          "name": "stderr",
          "text": [
            "/tmp/ipython-input-744578063.py:242: RuntimeWarning: Channel names are not unique, found duplicates for: {'.', 'T8-P8'}. Applying running numbers for duplicates.\n",
            "  raw = mne.io.read_raw_edf(path, preload=True, verbose=False)\n"
          ]
        },
        {
          "output_type": "stream",
          "name": "stdout",
          "text": [
            "NOTE: pick_channels() is a legacy function. New code should use inst.pick(...).\n"
          ]
        },
        {
          "output_type": "stream",
          "name": "stderr",
          "text": [
            "/tmp/ipython-input-744578063.py:242: RuntimeWarning: Channel names are not unique, found duplicates for: {'.', 'T8-P8'}. Applying running numbers for duplicates.\n",
            "  raw = mne.io.read_raw_edf(path, preload=True, verbose=False)\n"
          ]
        },
        {
          "output_type": "stream",
          "name": "stdout",
          "text": [
            "NOTE: pick_channels() is a legacy function. New code should use inst.pick(...).\n"
          ]
        },
        {
          "output_type": "stream",
          "name": "stderr",
          "text": [
            "/tmp/ipython-input-744578063.py:242: RuntimeWarning: Channel names are not unique, found duplicates for: {'.', 'T8-P8'}. Applying running numbers for duplicates.\n",
            "  raw = mne.io.read_raw_edf(path, preload=True, verbose=False)\n"
          ]
        },
        {
          "output_type": "stream",
          "name": "stdout",
          "text": [
            "NOTE: pick_channels() is a legacy function. New code should use inst.pick(...).\n"
          ]
        },
        {
          "output_type": "stream",
          "name": "stderr",
          "text": [
            "/tmp/ipython-input-744578063.py:242: RuntimeWarning: Channel names are not unique, found duplicates for: {'.', 'T8-P8'}. Applying running numbers for duplicates.\n",
            "  raw = mne.io.read_raw_edf(path, preload=True, verbose=False)\n"
          ]
        },
        {
          "output_type": "stream",
          "name": "stdout",
          "text": [
            "NOTE: pick_channels() is a legacy function. New code should use inst.pick(...).\n",
            "[chb21] EDFs:5 | with seizures in summary:0\n"
          ]
        },
        {
          "output_type": "stream",
          "name": "stderr",
          "text": [
            "/tmp/ipython-input-744578063.py:242: RuntimeWarning: Channel names are not unique, found duplicates for: {'T8-P8', '-'}. Applying running numbers for duplicates.\n",
            "  raw = mne.io.read_raw_edf(path, preload=True, verbose=False)\n",
            "/tmp/ipython-input-744578063.py:242: RuntimeWarning: Scaling factor is not defined in following channels:\n",
            "--0, --1, --2, --3, --4\n",
            "  raw = mne.io.read_raw_edf(path, preload=True, verbose=False)\n"
          ]
        },
        {
          "output_type": "stream",
          "name": "stdout",
          "text": [
            "NOTE: pick_channels() is a legacy function. New code should use inst.pick(...).\n"
          ]
        },
        {
          "output_type": "stream",
          "name": "stderr",
          "text": [
            "/tmp/ipython-input-744578063.py:242: RuntimeWarning: Channel names are not unique, found duplicates for: {'T8-P8', '-'}. Applying running numbers for duplicates.\n",
            "  raw = mne.io.read_raw_edf(path, preload=True, verbose=False)\n",
            "/tmp/ipython-input-744578063.py:242: RuntimeWarning: Scaling factor is not defined in following channels:\n",
            "--0, --1, --2, --3, --4\n",
            "  raw = mne.io.read_raw_edf(path, preload=True, verbose=False)\n"
          ]
        },
        {
          "output_type": "stream",
          "name": "stdout",
          "text": [
            "NOTE: pick_channels() is a legacy function. New code should use inst.pick(...).\n"
          ]
        },
        {
          "output_type": "stream",
          "name": "stderr",
          "text": [
            "/tmp/ipython-input-744578063.py:242: RuntimeWarning: Channel names are not unique, found duplicates for: {'T8-P8', '-'}. Applying running numbers for duplicates.\n",
            "  raw = mne.io.read_raw_edf(path, preload=True, verbose=False)\n",
            "/tmp/ipython-input-744578063.py:242: RuntimeWarning: Scaling factor is not defined in following channels:\n",
            "--0, --1, --2, --3, --4\n",
            "  raw = mne.io.read_raw_edf(path, preload=True, verbose=False)\n"
          ]
        },
        {
          "output_type": "stream",
          "name": "stdout",
          "text": [
            "NOTE: pick_channels() is a legacy function. New code should use inst.pick(...).\n"
          ]
        },
        {
          "output_type": "stream",
          "name": "stderr",
          "text": [
            "/tmp/ipython-input-744578063.py:242: RuntimeWarning: Channel names are not unique, found duplicates for: {'T8-P8', '-'}. Applying running numbers for duplicates.\n",
            "  raw = mne.io.read_raw_edf(path, preload=True, verbose=False)\n",
            "/tmp/ipython-input-744578063.py:242: RuntimeWarning: Scaling factor is not defined in following channels:\n",
            "--0, --1, --2, --3, --4\n",
            "  raw = mne.io.read_raw_edf(path, preload=True, verbose=False)\n"
          ]
        },
        {
          "output_type": "stream",
          "name": "stdout",
          "text": [
            "NOTE: pick_channels() is a legacy function. New code should use inst.pick(...).\n"
          ]
        },
        {
          "output_type": "stream",
          "name": "stderr",
          "text": [
            "/tmp/ipython-input-744578063.py:242: RuntimeWarning: Channel names are not unique, found duplicates for: {'T8-P8', '-'}. Applying running numbers for duplicates.\n",
            "  raw = mne.io.read_raw_edf(path, preload=True, verbose=False)\n",
            "/tmp/ipython-input-744578063.py:242: RuntimeWarning: Scaling factor is not defined in following channels:\n",
            "--0, --1, --2, --3, --4\n",
            "  raw = mne.io.read_raw_edf(path, preload=True, verbose=False)\n"
          ]
        },
        {
          "output_type": "stream",
          "name": "stdout",
          "text": [
            "NOTE: pick_channels() is a legacy function. New code should use inst.pick(...).\n",
            "[chb22] EDFs:4 | with seizures in summary:0\n"
          ]
        },
        {
          "output_type": "stream",
          "name": "stderr",
          "text": [
            "/tmp/ipython-input-744578063.py:242: RuntimeWarning: Channel names are not unique, found duplicates for: {'T8-P8', '-'}. Applying running numbers for duplicates.\n",
            "  raw = mne.io.read_raw_edf(path, preload=True, verbose=False)\n"
          ]
        },
        {
          "output_type": "stream",
          "name": "stdout",
          "text": [
            "NOTE: pick_channels() is a legacy function. New code should use inst.pick(...).\n"
          ]
        },
        {
          "output_type": "stream",
          "name": "stderr",
          "text": [
            "/tmp/ipython-input-744578063.py:242: RuntimeWarning: Channel names are not unique, found duplicates for: {'T8-P8', '-'}. Applying running numbers for duplicates.\n",
            "  raw = mne.io.read_raw_edf(path, preload=True, verbose=False)\n"
          ]
        },
        {
          "output_type": "stream",
          "name": "stdout",
          "text": [
            "NOTE: pick_channels() is a legacy function. New code should use inst.pick(...).\n"
          ]
        },
        {
          "output_type": "stream",
          "name": "stderr",
          "text": [
            "/tmp/ipython-input-744578063.py:242: RuntimeWarning: Channel names are not unique, found duplicates for: {'T8-P8', '-'}. Applying running numbers for duplicates.\n",
            "  raw = mne.io.read_raw_edf(path, preload=True, verbose=False)\n"
          ]
        },
        {
          "output_type": "stream",
          "name": "stdout",
          "text": [
            "NOTE: pick_channels() is a legacy function. New code should use inst.pick(...).\n"
          ]
        },
        {
          "output_type": "stream",
          "name": "stderr",
          "text": [
            "/tmp/ipython-input-744578063.py:242: RuntimeWarning: Channel names are not unique, found duplicates for: {'T8-P8', '-'}. Applying running numbers for duplicates.\n",
            "  raw = mne.io.read_raw_edf(path, preload=True, verbose=False)\n"
          ]
        },
        {
          "output_type": "stream",
          "name": "stdout",
          "text": [
            "NOTE: pick_channels() is a legacy function. New code should use inst.pick(...).\n",
            "[chb23] EDFs:4 | with seizures in summary:0\n"
          ]
        },
        {
          "output_type": "stream",
          "name": "stderr",
          "text": [
            "/tmp/ipython-input-744578063.py:242: RuntimeWarning: Channel names are not unique, found duplicates for: {'T8-P8'}. Applying running numbers for duplicates.\n",
            "  raw = mne.io.read_raw_edf(path, preload=True, verbose=False)\n"
          ]
        },
        {
          "output_type": "stream",
          "name": "stdout",
          "text": [
            "NOTE: pick_channels() is a legacy function. New code should use inst.pick(...).\n"
          ]
        },
        {
          "output_type": "stream",
          "name": "stderr",
          "text": [
            "/tmp/ipython-input-744578063.py:242: RuntimeWarning: Channel names are not unique, found duplicates for: {'T8-P8'}. Applying running numbers for duplicates.\n",
            "  raw = mne.io.read_raw_edf(path, preload=True, verbose=False)\n"
          ]
        },
        {
          "output_type": "stream",
          "name": "stdout",
          "text": [
            "NOTE: pick_channels() is a legacy function. New code should use inst.pick(...).\n"
          ]
        },
        {
          "output_type": "stream",
          "name": "stderr",
          "text": [
            "/tmp/ipython-input-744578063.py:242: RuntimeWarning: Channel names are not unique, found duplicates for: {'T8-P8'}. Applying running numbers for duplicates.\n",
            "  raw = mne.io.read_raw_edf(path, preload=True, verbose=False)\n"
          ]
        },
        {
          "output_type": "stream",
          "name": "stdout",
          "text": [
            "NOTE: pick_channels() is a legacy function. New code should use inst.pick(...).\n"
          ]
        },
        {
          "output_type": "stream",
          "name": "stderr",
          "text": [
            "/tmp/ipython-input-744578063.py:242: RuntimeWarning: Channel names are not unique, found duplicates for: {'T8-P8'}. Applying running numbers for duplicates.\n",
            "  raw = mne.io.read_raw_edf(path, preload=True, verbose=False)\n"
          ]
        },
        {
          "output_type": "stream",
          "name": "stdout",
          "text": [
            "NOTE: pick_channels() is a legacy function. New code should use inst.pick(...).\n",
            "\n",
            "Files scanned: 143 | files with seizures in summary: 17\n",
            "Raw label counts BEFORE balancing: seizure = 517 non-seizure = 292832\n",
            "\n",
            "AFTER balancing:\n",
            "Shapes  -> X: (1034, 78)  y: (1034,)  meta: (1034, 5)\n",
            "Labels  -> seizure: 517  non-seizure: 517\n",
            "\n",
            "✅ Saved:\n",
            "  /content/drive/MyDrive/chb_outputs/features_balanced.csv\n",
            "  /content/drive/MyDrive/chb_outputs/labels_balanced.csv\n",
            "  /content/drive/MyDrive/chb_outputs/meta_balanced.csv\n"
          ]
        }
      ]
    },
    {
      "cell_type": "code",
      "source": [
        "!mkdir -p \"/content/drive/MyDrive/chb_outputs\"\n",
        "\n",
        "!cp /content/features_balanced.csv \"/content/drive/MyDrive/chb_outputs/\"\n",
        "!cp /content/labels_balanced.csv \"/content/drive/MyDrive/chb_outputs/\"\n",
        "!cp /content/meta_balanced.csv \"/content/drive/MyDrive/chb_outputs/\""
      ],
      "metadata": {
        "id": "g8mk8bJZKETu",
        "colab": {
          "base_uri": "https://localhost:8080/"
        },
        "outputId": "066bd0e6-dac6-45ee-efc9-13f94a30acdf"
      },
      "execution_count": null,
      "outputs": [
        {
          "output_type": "stream",
          "name": "stdout",
          "text": [
            "cp: cannot stat '/content/features_balanced.csv': No such file or directory\n",
            "cp: cannot stat '/content/labels_balanced.csv': No such file or directory\n",
            "cp: cannot stat '/content/meta_balanced.csv': No such file or directory\n"
          ]
        }
      ]
    },
    {
      "cell_type": "code",
      "source": [
        "# Paths (change if you saved elsewhere)\n",
        "FEATS = \"/content/drive/MyDrive/chb_outputs/features_balanced.csv\"\n",
        "LABS = \"/content/drive/MyDrive/chb_outputs/labels_balanced.csv\"\n",
        "META = \"/content/drive/MyDrive/chb_outputs/meta_balanced.csv\"\n",
        "\n",
        "import pandas as pd\n",
        "X = pd.read_csv(FEATS)\n",
        "y = pd.read_csv(LABS)[\"label\"]\n",
        "meta = pd.read_csv(META)\n",
        "\n",
        "print(\"Shapes:\", X.shape, y.shape, meta.shape)\n",
        "assert len(X)==len(y)==len(meta), \"Row mismatch across X/y/meta\"\n",
        "\n",
        "# Quick sanity\n",
        "print(\"Label balance:\\n\", y.value_counts())\n",
        "print(\"Feature columns:\", len(X.columns))\n",
        "print(meta.head(3))\n",
        "\n"
      ],
      "metadata": {
        "colab": {
          "base_uri": "https://localhost:8080/"
        },
        "id": "w8x_oTm2L6nq",
        "outputId": "a8a2f88e-20ff-4b97-a3c7-81123d745984"
      },
      "execution_count": null,
      "outputs": [
        {
          "output_type": "stream",
          "name": "stdout",
          "text": [
            "Shapes: (1034, 78) (1034,) (1034, 5)\n",
            "Label balance:\n",
            " label\n",
            "1    517\n",
            "0    517\n",
            "Name: count, dtype: int64\n",
            "Feature columns: 78\n",
            "  patient          file  window_idx  start_sec  end_sec\n",
            "0   chb02  chb02_16.edf          51      127.5    132.5\n",
            "1   chb02  chb02_16.edf          52      130.0    135.0\n",
            "2   chb02  chb02_16.edf          53      132.5    137.5\n"
          ]
        }
      ]
    },
    {
      "cell_type": "code",
      "source": [
        "# --- PATHS (change if yours are in Drive) ---\n",
        "\n",
        "# ===============================\n",
        "\n",
        "# Model Training (Random Forest + SVM)\n",
        "\n",
        "# ===============================\n",
        "\n",
        "import pandas as pd\n",
        "import joblib\n",
        "import numpy as np\n",
        "import seaborn as sns\n",
        "from sklearn.model_selection import train_test_split, cross_val_score\n",
        "\n",
        "from sklearn.ensemble import RandomForestClassifier\n",
        "\n",
        "from sklearn.svm import SVC\n",
        "\n",
        "from sklearn.metrics import classification_report, confusion_matrix, roc_auc_score, RocCurveDisplay, PrecisionRecallDisplay, accuracy_score\n",
        "\n",
        "import matplotlib.pyplot as plt\n",
        "\n",
        "MODEL_OUT=\"/content/drive/MyDrive/chb_outputs/final_rf_model.joblib\"\n",
        "THR_OUT=\"/content/drive/MyDrive/chb_outputs/final_rf_threshold.txt\"\n",
        "THRESHOLD=0.39\n",
        "\n",
        "# --- Load data ---\n",
        "\n",
        "X = pd.read_csv(\"/content/drive/MyDrive/chb_outputs/features_balanced.csv\")\n",
        "\n",
        "y = pd.read_csv(\"/content/drive/MyDrive/chb_outputs/labels_balanced.csv\").squeeze(\"columns\")\n",
        "\n",
        "\n",
        "print(\"Data shape:\", X.shape, \"Labels shape:\", y.shape)\n",
        "\n",
        "print(\"Seizures:\", int(y.sum()), \" Non-seizures:\", int((1-y).sum()))\n",
        "\n",
        "\n",
        "# --- Train/test split ---\n",
        "\n",
        "X_train, X_test, y_train, y_test = train_test_split(\n",
        "\n",
        "    X, y, test_size=0.2, stratify=y, random_state=42\n",
        "\n",
        ")\n",
        "\n",
        "\n",
        "# --- Random Forest ---\n",
        "\n",
        "rf = RandomForestClassifier(\n",
        "\n",
        "    n_estimators=400,     # boosted from 100 → 400\n",
        "\n",
        "    max_depth=None,\n",
        "\n",
        "    class_weight=\"balanced\",  # helps handle seizure/non imbalance\n",
        "\n",
        "    random_state=42,\n",
        "\n",
        "    n_jobs=-1\n",
        "\n",
        ")\n",
        "\n",
        "rf.fit(X_train, y_train)\n",
        "\n",
        "\n",
        "rf_preds = rf.predict(X_test)\n",
        "\n",
        "rf_probs = rf.predict_proba(X_test)[:,1]\n",
        "\n",
        "#==============================================================\n",
        "\n",
        "y_pred_050=(rf_probs>=0.50).astype(int)\n",
        "print(\"=======Random Forest @0.50==========\")\n",
        "print(\"Accuracy: \", accuracy_score(y_test, y_pred_050))\n",
        "print(\"Confusion : \\n\", confusion_matrix(y_test, y_pred_050))\n",
        "print(\"ROC AUC: \", roc_auc_score(y_test, rf_probs))\n",
        "print(classification_report(y_test, y_pred_050, digits=4))\n",
        "\n",
        "#======= threshold =0.39 =========================\n",
        "y_pred=(rf_probs >= THRESHOLD).astype(int)\n",
        "cm=confusion_matrix(y_test, y_pred)\n",
        "acc=accuracy_score(y_test, y_pred)\n",
        "print(f\"\\n ===== Random Forest @ THRESHOLD ={THRESHOLD} ======\")\n",
        "print(\"Accuracy :\",acc)\n",
        "print(\"Confusion : \\n\", cm)\n",
        "print(classification_report(y_test, y_pred, digits=4))\n",
        "\n",
        "\n",
        "\n",
        "# --- Pretty Confusion Matrix ---\n",
        "\n",
        "plt.figure(figsize=(6,5))\n",
        "\n",
        "sns.heatmap(cm, annot=True, fmt=\"d\", cmap=\"Blues\",\n",
        "\n",
        "            xticklabels=[\"Non-seizure\",\"Seizure\"],\n",
        "\n",
        "            yticklabels=[\"Non-seizure\",\"Seizure\"])\n",
        "\n",
        "plt.title(f\"Confusion Matrix (Acc: {acc*100:.2f}%, thr={THRESHOLD})\")\n",
        "\n",
        "plt.xlabel(\"Predicted\"); plt.ylabel(\"True\")\n",
        "\n",
        "plt.tight_layout(); plt.show()\n",
        "\n",
        "\n",
        "# --- ROC & PR (RF only) ---\n",
        "\n",
        "fig, ax = plt.subplots(1,2, figsize=(12,5))\n",
        "\n",
        "RocCurveDisplay.from_predictions(y_test, rf_probs, ax=ax[0], name=\"RF\")\n",
        "\n",
        "ax[0].set_title(\"ROC Curve\")\n",
        "\n",
        "\n",
        "PrecisionRecallDisplay.from_predictions(y_test, rf_probs, ax=ax[1], name=\"RF\")\n",
        "\n",
        "ax[1].set_title(\"Precision–Recall Curve\")\n",
        "\n",
        "plt.show()\n",
        "\n",
        "\n",
        "# --- Save model + threshold for frontend ---\n",
        "\n",
        "joblib.dump(rf, MODEL_OUT)\n",
        "\n",
        "with open(THR_OUT, \"w\") as f:\n",
        "\n",
        "    f.write(str(THRESHOLD))\n",
        "\n",
        "print(\"✅ Saved:\", MODEL_OUT, \"and\", THR_OUT)\n",
        "\n",
        "\"\"\"\n",
        "print(\"\\n=== Random Forest ===\")\n",
        "print(\"accuracy \",accuracy_score(y_test,rf_preds))\n",
        "\n",
        "print(classification_report(y_test, rf_preds, digits=4))\n",
        "\n",
        "print(\"ROC AUC:\", roc_auc_score(y_test, rf_probs))\n",
        "\n",
        "print(\"Confusion Matrix:\\n\", confusion_matrix(y_test, rf_preds))\n",
        "\"\"\"\n",
        "\n",
        "\"\"\"\n",
        "# --- Plots ---\n",
        "\n",
        "fig, ax = plt.subplots(1,2, figsize=(12,5))\n",
        "\n",
        "\n",
        "RocCurveDisplay.from_predictions(y_test, rf_probs, ax=ax[0], name=\"RF\")\n",
        "\n",
        "\n",
        "ax[0].set_title(\"ROC Curve\")\n",
        "\n",
        "\n",
        "PrecisionRecallDisplay.from_predictions(y_test, rf_probs, ax=ax[1], name=\"RF\")\n",
        "\n",
        "ax[1].set_title(\"Precision-Recall Curve\")\n",
        "\n",
        "\n",
        "plt.show()\n",
        "\"\"\""
      ],
      "metadata": {
        "colab": {
          "base_uri": "https://localhost:8080/",
          "height": 1000
        },
        "id": "PxVgzv5DMFFX",
        "outputId": "1ef50161-3aab-424c-85c8-be29e69535cf"
      },
      "execution_count": null,
      "outputs": [
        {
          "output_type": "stream",
          "name": "stdout",
          "text": [
            "Data shape: (1034, 78) Labels shape: (1034,)\n",
            "Seizures: 517  Non-seizures: 517\n",
            "=======Random Forest @0.50==========\n",
            "Accuracy:  0.927536231884058\n",
            "Confusion : \n",
            " [[102   2]\n",
            " [ 13  90]]\n",
            "ROC AUC:  0.9823562359970126\n",
            "              precision    recall  f1-score   support\n",
            "\n",
            "           0     0.8870    0.9808    0.9315       104\n",
            "           1     0.9783    0.8738    0.9231       103\n",
            "\n",
            "    accuracy                         0.9275       207\n",
            "   macro avg     0.9326    0.9273    0.9273       207\n",
            "weighted avg     0.9324    0.9275    0.9273       207\n",
            "\n",
            "\n",
            " ===== Random Forest @ THRESHOLD =0.39 ======\n",
            "Accuracy : 0.9371980676328503\n",
            "Confusion : \n",
            " [[97  7]\n",
            " [ 6 97]]\n",
            "              precision    recall  f1-score   support\n",
            "\n",
            "           0     0.9417    0.9327    0.9372       104\n",
            "           1     0.9327    0.9417    0.9372       103\n",
            "\n",
            "    accuracy                         0.9372       207\n",
            "   macro avg     0.9372    0.9372    0.9372       207\n",
            "weighted avg     0.9372    0.9372    0.9372       207\n",
            "\n"
          ]
        },
        {
          "output_type": "display_data",
          "data": {
            "text/plain": [
              "<Figure size 600x500 with 2 Axes>"
            ],
            "image/png": "[encoded data removed]"
          },
          "metadata": {}
        },
        {
          "output_type": "display_data",
          "data": {
            "text/plain": [
              "<Figure size 1200x500 with 2 Axes>"
            ],
            "image/png": "[encoded data removed]"
          },
          "metadata": {}
        },
        {
          "output_type": "stream",
          "name": "stdout",
          "text": [
            "✅ Saved: /content/drive/MyDrive/chb_outputs/final_rf_model.joblib and /content/drive/MyDrive/chb_outputs/final_rf_threshold.txt\n"
          ]
        },
        {
          "output_type": "execute_result",
          "data": {
            "text/plain": [
              "'\\n# --- Plots ---\\n\\nfig, ax = plt.subplots(1,2, figsize=(12,5))\\n\\n\\nRocCurveDisplay.from_predictions(y_test, rf_probs, ax=ax[0], name=\"RF\")\\n\\n\\nax[0].set_title(\"ROC Curve\")\\n\\n\\nPrecisionRecallDisplay.from_predictions(y_test, rf_probs, ax=ax[1], name=\"RF\")\\n\\nax[1].set_title(\"Precision-Recall Curve\")\\n\\n\\nplt.show()\\n'"
            ],
            "application/vnd.google.colaboratory.intrinsic+json": {
              "type": "string"
            }
          },
          "metadata": {},
          "execution_count": 1
        }
      ]
    },
    {
      "cell_type": "code",
      "source": [
        "import joblib\n",
        "joblib.dump(rf,\"/content/drive/MyDrive/chb_outputs/seizure_rf_model.pkl\")\n",
        "print(\" Model saved to Drive as seizure_rf_model.pkl\")\n",
        "rf_loaded=joblib.load(\"/content/drive/MyDrive/chb_outputs/seizure_rf_model.pkl\")\n",
        "sample_preds=rf_loaded.predict(X_test[:5])\n",
        "print(\"Reloaded model test preds : \", sample_preds)"
      ],
      "metadata": {
        "colab": {
          "base_uri": "https://localhost:8080/"
        },
        "id": "iY95QeLVTKL4",
        "outputId": "b9fcaad0-e719-45a3-e489-cae91f9d031b"
      },
      "execution_count": null,
      "outputs": [
        {
          "output_type": "stream",
          "name": "stdout",
          "text": [
            " Model saved to Drive as seizure_rf_model.pkl\n",
            "Reloaded model test preds :  [0 0 0 0 0]\n"
          ]
        }
      ]
    },
    {
      "cell_type": "code",
      "source": [
        " #--- Pretty Confusion Matrix + Accuracy + ROC + PR (using your vars) ---\n",
        "\n",
        "\n",
        "import numpy as np\n",
        "\n",
        "import matplotlib.pyplot as plt\n",
        "\n",
        "import seaborn as sns\n",
        "\n",
        "from sklearn.metrics import (\n",
        "\n",
        "    confusion_matrix, accuracy_score,\n",
        "\n",
        "    roc_curve, auc,\n",
        "\n",
        "    precision_recall_curve, average_precision_score\n",
        "\n",
        ")\n",
        "\n",
        "\n",
        "# 1) Thresholded predictions (use your chosen threshold)\n",
        "\n",
        "THRESHOLD = 0.39\n",
        "\n",
        "y_pred_t = (rf_probs >= THRESHOLD).astype(int)\n",
        "\n",
        "\n",
        "# 2) Confusion matrix & accuracy\n",
        "\n",
        "cm = confusion_matrix(y_test, y_pred_t)\n",
        "\n",
        "acc = accuracy_score(y_test, y_pred_t)\n",
        "\n",
        "print(f\"Model Accuracy @ {THRESHOLD:.2f}: {acc*100:.2f}%\")\n",
        "\n",
        "\n",
        "plt.figure(figsize=(6,5))\n",
        "\n",
        "sns.heatmap(cm, annot=True, fmt=\"d\", cmap=\"Blues\",\n",
        "\n",
        "            xticklabels=[\"Non-seizure\", \"Seizure\"],\n",
        "\n",
        "            yticklabels=[\"Non-seizure\", \"Seizure\"])\n",
        "\n",
        "plt.xlabel(\"Predicted Label\")\n",
        "\n",
        "plt.ylabel(\"True Label\")\n",
        "\n",
        "plt.title(f\"Confusion Matrix (Acc: {acc*100:.2f}%, thr={THRESHOLD:.2f})\")\n",
        "\n",
        "plt.tight_layout()\n",
        "\n",
        "plt.show()\n",
        "\n",
        "\n",
        "# 3) ROC curve (uses probabilities)\n",
        "\n",
        "fpr, tpr, _ = roc_curve(y_test, rf_probs)\n",
        "\n",
        "roc_auc = auc(fpr, tpr)\n",
        "\n",
        "\n",
        "plt.figure(figsize=(6,5))\n",
        "\n",
        "plt.plot(fpr, tpr, label=f\"AUC = {roc_auc:.2f}\", linewidth=2)\n",
        "\n",
        "plt.plot([0,1], [0,1], 'k--', linewidth=1)\n",
        "\n",
        "plt.xlabel(\"False Positive Rate\")\n",
        "\n",
        "plt.ylabel(\"True Positive Rate (Recall)\")\n",
        "\n",
        "plt.title(\"ROC Curve\")\n",
        "\n",
        "plt.legend(loc=\"lower right\")\n",
        "\n",
        "plt.grid(True, linestyle=\"--\", alpha=0.5)\n",
        "\n",
        "plt.tight_layout()\n",
        "\n",
        "plt.show()\n",
        "\n",
        "print(\"accuracy \",accuracy_score(y_test,rf_preds))\n",
        "\n",
        "print(classification_report(y_test, rf_preds, digits=4))\n",
        "\n",
        "print(\"ROC AUC:\", roc_auc_score(y_test, rf_probs))\n",
        "\n",
        "# 4) Precision–Recall curve (uses probabilities)\n",
        "\n",
        "prec, rec, _ = precision_recall_curve(y_test, rf_probs)\n",
        "\n",
        "ap = average_precision_score(y_test, rf_probs)\n",
        "\n",
        "\n",
        "plt.figure(figsize=(6,5))\n",
        "\n",
        "plt.plot(rec, prec, label=f\"AP = {ap:.2f}\", linewidth=2)\n",
        "\n",
        "plt.xlabel(\"Recall\")\n",
        "\n",
        "plt.ylabel(\"Precision\")\n",
        "\n",
        "plt.title(\"Precision–Recall Curve\")\n",
        "\n",
        "plt.legend(loc=\"lower left\")\n",
        "\n",
        "plt.grid(True, linestyle=\"--\", alpha=0.5)\n",
        "\n",
        "plt.tight_layout()\n",
        "\n",
        "plt.show()"
      ],
      "metadata": {
        "colab": {
          "base_uri": "https://localhost:8080/",
          "height": 1000
        },
        "id": "-AxFOH2y26jA",
        "outputId": "990d2085-14f8-43e8-f8b6-b250e2435559"
      },
      "execution_count": null,
      "outputs": [
        {
          "output_type": "stream",
          "name": "stdout",
          "text": [
            "Model Accuracy @ 0.39: 93.72%\n"
          ]
        },
        {
          "output_type": "display_data",
          "data": {
            "text/plain": [
              "<Figure size 600x500 with 2 Axes>"
            ],
            "image/png": "[encoded data removed]"
          },
          "metadata": {}
        },
        {
          "output_type": "display_data",
          "data": {
            "text/plain": [
              "<Figure size 600x500 with 1 Axes>"
            ],
            "image/png": "[encoded data removed]"
          },
          "metadata": {}
        },
        {
          "output_type": "stream",
          "name": "stdout",
          "text": [
            "accuracy  0.927536231884058\n",
            "              precision    recall  f1-score   support\n",
            "\n",
            "           0     0.8870    0.9808    0.9315       104\n",
            "           1     0.9783    0.8738    0.9231       103\n",
            "\n",
            "    accuracy                         0.9275       207\n",
            "   macro avg     0.9326    0.9273    0.9273       207\n",
            "weighted avg     0.9324    0.9275    0.9273       207\n",
            "\n",
            "ROC AUC: 0.9823562359970126\n"
          ]
        },
        {
          "output_type": "display_data",
          "data": {
            "text/plain": [
              "<Figure size 600x500 with 1 Axes>"
            ],
            "image/png": "[encoded data removed]"
          },
          "metadata": {}
        }
      ]
    },
    {
      "cell_type": "code",
      "source": [
        "from sklearn.model_selection import cross_val_score, StratifiedKFold\n",
        "import numpy as np\n",
        "\n",
        "# 5-Fold Stratified Cross Validation (preserves seizure/non-seizure balance)\n",
        "cv = StratifiedKFold(n_splits=5, shuffle=True, random_state=42)\n",
        "\n",
        "# Evaluate with cross_val_score\n",
        "cv_scores = cross_val_score(rf, X, y, cv=cv, scoring='accuracy')\n",
        "\n",
        "print(\"Cross-validation scores:\", cv_scores)\n",
        "print(\"Mean Accuracy:\", np.mean(cv_scores))\n",
        "print(\"Std Deviation:\", np.std(cv_scores))"
      ],
      "metadata": {
        "colab": {
          "base_uri": "https://localhost:8080/"
        },
        "id": "Wtoqpl4fHdj0",
        "outputId": "10fae174-b2e6-414c-80db-165a90856619"
      },
      "execution_count": null,
      "outputs": [
        {
          "output_type": "stream",
          "name": "stdout",
          "text": [
            "Cross-validation scores: [0.87922705 0.89855072 0.91304348 0.88405797 0.9223301 ]\n",
            "Mean Accuracy: 0.8994418648281037\n",
            "Std Deviation: 0.016461907515339408\n"
          ]
        }
      ]
    },
    {
      "cell_type": "code",
      "source": [
        "from sklearn.model_selection import StratifiedKFold, cross_validate\n",
        "from sklearn.metrics import make_scorer, precision_score, recall_score, f1_score\n",
        "\n",
        "# Recreate the RF with your chosen params (so CV can refit cleanly on each fold)\n",
        "rf_cv = RandomForestClassifier(\n",
        "n_estimators=400,\n",
        "max_depth=None,\n",
        "class_weight=\"balanced\",\n",
        "random_state=42,\n",
        "n_jobs=-1\n",
        ")\n",
        "\n",
        "# What to score (treat label=1 as the positive \"seizure\" class)\n",
        "scoring = {\n",
        "\"accuracy\": \"accuracy\",\n",
        "\"precision\": make_scorer(precision_score, pos_label=1),\n",
        "\"recall\": make_scorer(recall_score, pos_label=1),\n",
        "\"f1\": make_scorer(f1_score, pos_label=1),\n",
        "\"roc_auc\": \"roc_auc\"\n",
        "}\n",
        "\n",
        "# 5-fold stratified CV keeps seizure/non-seizure proportions per fold\n",
        "cv = StratifiedKFold(n_splits=5, shuffle=True, random_state=42)\n",
        "\n",
        "cv_res = cross_validate(\n",
        "rf_cv, X, y, cv=cv, scoring=scoring, n_jobs=-1, return_train_score=False\n",
        ")\n",
        "\n",
        "import pandas as pd\n",
        "df = pd.DataFrame({\n",
        "\"fold\": range(1, cv.get_n_splits()+1),\n",
        "\"accuracy\": cv_res[\"test_accuracy\"],\n",
        "\"precision\": cv_res[\"test_precision\"],\n",
        "\"recall\": cv_res[\"test_recall\"],\n",
        "\"f1\": cv_res[\"test_f1\"],\n",
        "\"roc_auc\": cv_res[\"test_roc_auc\"],\n",
        "})\n",
        "print(\"Per-fold scores:\\n\", df.round(3), \"\\n\")\n",
        "\n",
        "summary = df.drop(columns=\"fold\").agg(['mean','std']).round(3)\n",
        "print(\"CV summary (mean ± std):\\n\", summary)"
      ],
      "metadata": {
        "colab": {
          "base_uri": "https://localhost:8080/"
        },
        "id": "a_Yymb6KSL_W",
        "outputId": "7c77366f-dcc8-4016-993e-ec4e0fcbd1a1"
      },
      "execution_count": null,
      "outputs": [
        {
          "output_type": "stream",
          "name": "stdout",
          "text": [
            "Per-fold scores:\n",
            "    fold  accuracy  precision  recall     f1  roc_auc\n",
            "0     1     0.879      0.899   0.856  0.877    0.950\n",
            "1     2     0.899      0.946   0.846  0.893    0.976\n",
            "2     3     0.913      0.913   0.913  0.913    0.965\n",
            "3     4     0.884      0.899   0.864  0.881    0.965\n",
            "4     5     0.922      0.939   0.903  0.921    0.973 \n",
            "\n",
            "CV summary (mean ± std):\n",
            "       accuracy  precision  recall     f1  roc_auc\n",
            "mean     0.899      0.919   0.876  0.897    0.966\n",
            "std      0.018      0.022   0.030  0.019    0.010\n"
          ]
        }
      ]
    },
    {
      "cell_type": "code",
      "source": [
        "from google.colab import files\n",
        "files.download(\"/content/drive/MyDrive/chb_outputs/seizure_rf_model.pkl\")"
      ],
      "metadata": {
        "colab": {
          "base_uri": "https://localhost:8080/",
          "height": 17
        },
        "id": "EMF95B8BF58Y",
        "outputId": "f1ba2a99-63cf-43c4-d779-23a72e14fb4e"
      },
      "execution_count": null,
      "outputs": [
        {
          "output_type": "display_data",
          "data": {
            "text/plain": [
              "<IPython.core.display.Javascript object>"
            ],
            "application/javascript": [
              "\n",
              "    async function download(id, filename, size) {\n",
              "      if (!google.colab.kernel.accessAllowed) {\n",
              "        return;\n",
              "      }\n",
              "      const div = document.createElement('div');\n",
              "      const label = document.createElement('label');\n",
              "      label.textContent = `Downloading \"${filename}\": `;\n",
              "      div.appendChild(label);\n",
              "      const progress = document.createElement('progress');\n",
              "      progress.max = size;\n",
              "      div.appendChild(progress);\n",
              "      document.body.appendChild(div);\n",
              "\n",
              "      const buffers = [];\n",
              "      let downloaded = 0;\n",
              "\n",
              "      const channel = await google.colab.kernel.comms.open(id);\n",
              "      // Send a message to notify the kernel that we're ready.\n",
              "      channel.send({})\n",
              "\n",
              "      for await (const message of channel.messages) {\n",
              "        // Send a message to notify the kernel that we're ready.\n",
              "        channel.send({})\n",
              "        if (message.buffers) {\n",
              "          for (const buffer of message.buffers) {\n",
              "            buffers.push(buffer);\n",
              "            downloaded += buffer.byteLength;\n",
              "            progress.value = downloaded;\n",
              "          }\n",
              "        }\n",
              "      }\n",
              "      const blob = new Blob(buffers, {type: 'application/binary'});\n",
              "      const a = document.createElement('a');\n",
              "      a.href = window.URL.createObjectURL(blob);\n",
              "      a.download = filename;\n",
              "      div.appendChild(a);\n",
              "      a.click();\n",
              "      div.remove();\n",
              "    }\n",
              "  "
            ]
          },
          "metadata": {}
        },
        {
          "output_type": "display_data",
          "data": {
            "text/plain": [
              "<IPython.core.display.Javascript object>"
            ],
            "application/javascript": [
              "download(\"download_2ddc1f91-8f4b-4f0a-928c-dac3ad673e9c\", \"seizure_rf_model.pkl\", 4313113)"
            ]
          },
          "metadata": {}
        }
      ]
    }
  ]
}